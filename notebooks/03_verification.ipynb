{
 "cells": [
  {
   "cell_type": "markdown",
   "id": "7a1590aa",
   "metadata": {},
   "source": [
    "# Berlin Transport Network - Data Verification\n",
    "\n",
    "This notebook verifies the processed Berlin transport network data to ensure data quality and consistency. It performs the following checks:\n",
    "\n",
    "1. **Transport Types**: Verifies that all transport types are in the allowed set (autobus, omnibus, tram, u-bahn, s-bahn, ferry/fähre, strassenbahn)\n",
    "2. **Stop Uniqueness**: Ensures each combination of stop_name, line_name, and year is unique\n",
    "3. **Stop Connections**: Checks that each stop has at least one connection and no more than two connections\n",
    "4. **Referential Integrity**: Verifies that all line_stops references point to valid lines and stops\n",
    "5. **Geographic Data**: Ensures all stops have geographic coordinates\n",
    "\n",
    "The verification logic is implemented in the `src.verification` module."
   ]
  },
  {
   "cell_type": "code",
   "execution_count": 17,
   "id": "ab2e5227",
   "metadata": {},
   "outputs": [],
   "source": [
    "import sys\n",
    "import pandas as pd\n",
    "import logging\n",
    "import matplotlib.pyplot as plt\n",
    "import seaborn as sns\n",
    "from pathlib import Path\n",
    "\n",
    "# Configure logging\n",
    "logging.basicConfig(\n",
    "    level=logging.INFO,\n",
    "    format='%(asctime)s - %(levelname)s - %(message)s'\n",
    ")\n",
    "logger = logging.getLogger(__name__)\n",
    "\n",
    "# Import verification module\n",
    "sys.path.append('..')\n",
    "from src import verification"
   ]
  },
  {
   "cell_type": "code",
   "execution_count": 18,
   "id": "8b334313",
   "metadata": {},
   "outputs": [],
   "source": [
    "# Configuration\n",
    "YEAR = 1965\n",
    "SIDE = \"west\"\n",
    "BASE_DIR = Path('../data')"
   ]
  },
  {
   "cell_type": "code",
   "execution_count": 19,
   "id": "27a11788",
   "metadata": {},
   "outputs": [
    {
     "name": "stderr",
     "output_type": "stream",
     "text": [
      "2025-04-06 23:56:29,136 - INFO - Loaded processed data: 102 lines, 1395 stops, 1395 line-stop relationships\n"
     ]
    }
   ],
   "source": [
    "# Run verification\n",
    "results = verification.run_verification(BASE_DIR, YEAR, SIDE)"
   ]
  },
  {
   "cell_type": "code",
   "execution_count": 20,
   "id": "893a22c3",
   "metadata": {},
   "outputs": [
    {
     "name": "stdout",
     "output_type": "stream",
     "text": [
      "================================================================================\n",
      "VERIFICATION REPORT: 1965 WEST\n",
      "================================================================================\n",
      "\n",
      "OVERALL STATUS: PASSED\n",
      "\n",
      "1. Transport Types: PASSED\n",
      "\n",
      "2. Stop Uniqueness: PASSED\n",
      "\n",
      "3. Stop Connections: PASSED\n",
      "\n",
      "4. Referential Integrity: PASSED\n",
      "\n",
      "5. Geographic Data: PASSED\n",
      "\n",
      "RECOMMENDATIONS:\n",
      "  - No issues found! Data is ready for analysis.\n",
      "================================================================================\n"
     ]
    }
   ],
   "source": [
    "# Generate and display report\n",
    "report = verification.generate_verification_report(results, YEAR, SIDE)\n",
    "print(report)"
   ]
  },
  {
   "cell_type": "code",
   "execution_count": 21,
   "id": "e107bc1c",
   "metadata": {},
   "outputs": [
    {
     "name": "stdout",
     "output_type": "stream",
     "text": [
      "Verification Checks Results:\n",
      "- Transport Types: ✅ PASSED\n",
      "- Stop Uniqueness: ✅ PASSED\n",
      "- Stop Connections: ✅ PASSED\n",
      "- Referential Integrity: ✅ PASSED\n",
      "- Geographic Data: ✅ PASSED\n"
     ]
    }
   ],
   "source": [
    "# Display check results in a more compact form\n",
    "print(\"Verification Checks Results:\")\n",
    "print(f\"- Transport Types: {'✅ PASSED' if results['transport_types']['valid'] else '❌ FAILED'}\")\n",
    "print(f\"- Stop Uniqueness: {'✅ PASSED' if results['stop_uniqueness']['valid'] else '❌ FAILED'}\")\n",
    "print(f\"- Stop Connections: {'✅ PASSED' if results['stop_connections']['valid'] else '❌ FAILED'}\")\n",
    "print(f\"- Referential Integrity: {'✅ PASSED' if results['referential_integrity']['valid'] else '❌ FAILED'}\")\n",
    "print(f\"- Geographic Data: {'✅ PASSED' if results['geographic_data']['valid'] else '❌ FAILED'}\")"
   ]
  },
  {
   "cell_type": "markdown",
   "id": "62701101",
   "metadata": {},
   "source": [
    "### 1. Transport Types Analysis\n",
    "\n",
    "Analyze the distribution of transport types and verify they are all valid."
   ]
  },
  {
   "cell_type": "code",
   "execution_count": 22,
   "id": "180d1906",
   "metadata": {},
   "outputs": [
    {
     "name": "stderr",
     "output_type": "stream",
     "text": [
      "2025-04-06 23:56:29,214 - INFO - Loaded processed data: 102 lines, 1395 stops, 1395 line-stop relationships\n"
     ]
    },
    {
     "name": "stdout",
     "output_type": "stream",
     "text": [
      "Valid transport types: {'tram', 'u-bahn', 'omnibus', 's-bahn', 'autobus', 'ferry'}\n",
      "\n",
      "Transport types found in the data:\n",
      "- autobus: 73 lines\n",
      "- s-bahn: 10 lines\n",
      "- tram: 9 lines\n",
      "- u-bahn: 9 lines\n",
      "- ferry: 1 lines\n"
     ]
    },
    {
     "data": {
      "image/png": "[encoded data removed]",
      "text/plain": [
       "<Figure size 1000x600 with 1 Axes>"
      ]
     },
     "metadata": {},
     "output_type": "display_data"
    }
   ],
   "source": [
    "# Load the data again to analyze in more detail\n",
    "data = verification.load_processed_data(BASE_DIR, YEAR, SIDE)\n",
    "lines_df = data['lines']\n",
    "\n",
    "# Display valid transport types\n",
    "print(f\"Valid transport types: {verification.VALID_TRANSPORT_TYPES}\")\n",
    "print()\n",
    "\n",
    "# Analyze transport types\n",
    "transport_counts = lines_df['type'].value_counts()\n",
    "print(\"Transport types found in the data:\")\n",
    "for transport_type, count in transport_counts.items():\n",
    "    print(f\"- {transport_type}: {count} lines\")\n",
    "\n",
    "# Visualize transport type distribution\n",
    "plt.figure(figsize=(10, 6))\n",
    "sns.barplot(x=transport_counts.index, y=transport_counts.values)\n",
    "plt.title(\"Transport Type Distribution\")\n",
    "plt.xlabel(\"Transport Type\")\n",
    "plt.ylabel(\"Count\")\n",
    "plt.xticks(rotation=45)\n",
    "plt.tight_layout()\n",
    "plt.show()"
   ]
  },
  {
   "cell_type": "markdown",
   "id": "84cc4e7b",
   "metadata": {},
   "source": [
    "### 2. Stop Connections Analysis\n",
    "\n",
    "Analyze the number of connections per stop."
   ]
  },
  {
   "cell_type": "code",
   "execution_count": 23,
   "id": "bbeab962",
   "metadata": {},
   "outputs": [
    {
     "name": "stdout",
     "output_type": "stream",
     "text": [
      "Connection counts:\n",
      "- 1 connection: 1395 stops\n",
      "- 2 connections: 0 stops\n",
      "- 3+ connections: 0 stops\n",
      "- Disconnected stops: 0 stops\n"
     ]
    },
    {
     "data": {
      "image/png": "[encoded data removed]",
      "text/plain": [
       "<Figure size 1000x600 with 1 Axes>"
      ]
     },
     "metadata": {},
     "output_type": "display_data"
    }
   ],
   "source": [
    "# Load data\n",
    "stops_df = data['stops']\n",
    "line_stops_df = data['line_stops']\n",
    "\n",
    "# Count connections per stop\n",
    "connection_counts = line_stops_df['stop_id'].value_counts().reset_index()\n",
    "connection_counts.columns = ['stop_id', 'connection_count']\n",
    "\n",
    "# Get counts by connection number\n",
    "one_connection = len(connection_counts[connection_counts['connection_count'] == 1])\n",
    "two_connections = len(connection_counts[connection_counts['connection_count'] == 2])\n",
    "more_connections = len(connection_counts[connection_counts['connection_count'] > 2])\n",
    "\n",
    "# Count disconnected stops\n",
    "all_stop_ids = set(stops_df['stop_id'])\n",
    "connected_stop_ids = set(line_stops_df['stop_id'])\n",
    "disconnected_count = len(all_stop_ids - connected_stop_ids)\n",
    "\n",
    "print(\"Connection counts:\")\n",
    "print(f\"- 1 connection: {one_connection} stops\")\n",
    "print(f\"- 2 connections: {two_connections} stops\")\n",
    "print(f\"- 3+ connections: {more_connections} stops\")\n",
    "print(f\"- Disconnected stops: {disconnected_count} stops\")\n",
    "\n",
    "# Visualize connection distribution\n",
    "connection_distribution = pd.Series({\n",
    "    \"1 connection\": one_connection,\n",
    "    \"2 connections\": two_connections,\n",
    "    \"3+ connections\": more_connections,\n",
    "    \"Disconnected\": disconnected_count\n",
    "})\n",
    "\n",
    "plt.figure(figsize=(10, 6))\n",
    "sns.barplot(x=connection_distribution.index, y=connection_distribution.values)\n",
    "plt.title(\"Stop Connection Distribution\")\n",
    "plt.xlabel(\"Connection Count\")\n",
    "plt.ylabel(\"Number of Stops\")\n",
    "plt.tight_layout()\n",
    "plt.show()"
   ]
  },
  {
   "cell_type": "markdown",
   "id": "0c8ec8d3",
   "metadata": {},
   "source": [
    "### 3. Examine Issues (if any)\n",
    "\n",
    "If verification failed, examine the specific issues in more detail."
   ]
  },
  {
   "cell_type": "code",
   "execution_count": 24,
   "id": "9dfeddaa",
   "metadata": {},
   "outputs": [
    {
     "name": "stdout",
     "output_type": "stream",
     "text": [
      "✅ All verification checks passed! The data is valid and ready for analysis.\n"
     ]
    }
   ],
   "source": [
    "# Check for duplicate stops\n",
    "if not results['stop_uniqueness']['valid']:\n",
    "    print(\"DUPLICATE STOPS:\")\n",
    "    display(results['stop_uniqueness']['duplicates'].head(10))\n",
    "    print(f\"Showing 10 of {len(results['stop_uniqueness']['duplicates'])} duplicate stops\")\n",
    "    print()\n",
    "\n",
    "# Check for disconnected stops\n",
    "if results['stop_connections']['disconnected_count'] > 0:\n",
    "    print(\"DISCONNECTED STOPS:\")\n",
    "    display(results['stop_connections']['disconnected'].head(10))\n",
    "    print(f\"Showing 10 of {len(results['stop_connections']['disconnected'])} disconnected stops\")\n",
    "    print()\n",
    "\n",
    "# Check for stops with too many connections\n",
    "if results['stop_connections']['too_many_connections_count'] > 0:\n",
    "    print(\"STOPS WITH TOO MANY CONNECTIONS:\")\n",
    "    display(results['stop_connections']['too_many_connections'].head(10))\n",
    "    print(f\"Showing 10 of {len(results['stop_connections']['too_many_connections'])} stops with too many connections\")\n",
    "    print()\n",
    "\n",
    "# Check for invalid line references\n",
    "if results['referential_integrity']['invalid_line_refs_count'] > 0:\n",
    "    print(\"INVALID LINE REFERENCES:\")\n",
    "    display(results['referential_integrity']['invalid_line_refs'].head(10))\n",
    "    print(f\"Showing 10 of {len(results['referential_integrity']['invalid_line_refs'])} invalid line references\")\n",
    "    print()\n",
    "\n",
    "# Check for invalid stop references\n",
    "if results['referential_integrity']['invalid_stop_refs_count'] > 0:\n",
    "    print(\"INVALID STOP REFERENCES:\")\n",
    "    display(results['referential_integrity']['invalid_stop_refs'].head(10))\n",
    "    print(f\"Showing 10 of {len(results['referential_integrity']['invalid_stop_refs'])} invalid stop references\")\n",
    "    print()\n",
    "\n",
    "# Check for missing geographic data\n",
    "if results['geographic_data']['missing_geo_count'] > 0:\n",
    "    print(\"STOPS WITH MISSING GEOGRAPHIC DATA:\")\n",
    "    display(results['geographic_data']['missing_geo'].head(10))\n",
    "    print(f\"Showing 10 of {len(results['geographic_data']['missing_geo'])} stops with missing geographic data\")\n",
    "    print()\n",
    "    \n",
    "# If all checks passed\n",
    "if results['overall']:\n",
    "    print(\"✅ All verification checks passed! The data is valid and ready for analysis.\")"
   ]
  }
 ],
 "metadata": {
  "kernelspec": {
   "display_name": ".venv",
   "language": "python",
   "name": "python3"
  },
  "language_info": {
   "codemirror_mode": {
    "name": "ipython",
    "version": 3
   },
   "file_extension": ".py",
   "mimetype": "text/x-python",
   "name": "python",
   "nbconvert_exporter": "python",
   "pygments_lexer": "ipython3",
   "version": "3.12.6"
  }
 },
 "nbformat": 4,
 "nbformat_minor": 5
}
