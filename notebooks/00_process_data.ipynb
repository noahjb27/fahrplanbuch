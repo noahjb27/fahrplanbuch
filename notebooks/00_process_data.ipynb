{
 "cells": [
  {
   "cell_type": "code",
   "execution_count": 1,
   "metadata": {},
   "outputs": [],
   "source": [
    "# 00_process_data.ipynb\n",
    "\n",
    "\"\"\"\n",
    "This notebook processes raw Berlin transport data from Fahrplanbücher into structured formats.\n",
    "\"\"\"\n",
    "\n",
    "import sys\n",
    "from pathlib import Path\n",
    "import pandas as pd\n",
    "import logging\n",
    "\n",
    "# Add the src directory to the Python path\n",
    "sys.path.append(str(Path('../src').resolve()))\n",
    "\n",
    "# Import processing modules\n",
    "from utils.data_loader import DataLoader, format_line_list\n",
    "from processor import TransportDataProcessor\n",
    "from utils.geolocation import StationMatcher\n",
    "\n",
    "# Configure logging\n",
    "logging.basicConfig(\n",
    "    level=logging.INFO,\n",
    "    format='%(asctime)s - %(levelname)s - %(message)s'\n",
    ")\n",
    "logger = logging.getLogger(__name__)"
   ]
  },
  {
   "cell_type": "markdown",
   "metadata": {},
   "source": [
    "# Berlin Transport Data Processing\n",
    "\n",
    "This notebook performs the initial extraction and transformation of Berlin's historical public transportation data from raw sources. It represents the first step in our processing pipeline.\n",
    "\n",
    "## Purpose\n",
    "\n",
    "1. **Data Extraction**: Load and parse raw data from digitized Fahrplanbücher (timetables)\n",
    "2. **Initial Structuring**: Convert raw data into structured tables with consistent formats\n",
    "3. **Station Identification**: Establish unique identifiers for transportation stops\n",
    "4. **Preliminary Geolocation**: Match stations to known geographic coordinates where possible\n",
    "\n",
    "## Process Overview\n",
    "\n",
    "The process follows these key steps:\n",
    "1. Load raw data from CSV files containing transcribed Fahrplanbuch information\n",
    "2. Process this data into standardized tables (lines and stops)\n",
    "3. Match stations with existing station records to obtain geographic coordinates\n",
    "4. Generate interim data files for subsequent processing stages\n",
    "\n",
    "## Historical Context\n",
    "\n",
    "The data represents Berlin's public transportation system during the Cold War era (1945-1989). During this period, Berlin was divided, with separate transportation authorities operating in East and West Berlin. This division is reflected in our data processing approach, where we handle each side separately for each year."
   ]
  },
  {
   "cell_type": "code",
   "execution_count": 2,
   "metadata": {},
   "outputs": [],
   "source": [
    "# Configuration\n",
    "YEAR = 1965\n",
    "SIDE = \"east\"  # or \"east\"\n",
    "DATA_DIR = Path('../data')\n",
    "\n",
    "# Initialize loader\n",
    "loader = DataLoader()"
   ]
  },
  {
   "cell_type": "code",
   "execution_count": 3,
   "metadata": {},
   "outputs": [
    {
     "name": "stderr",
     "output_type": "stream",
     "text": [
      "2025-04-06 14:54:20,691 - INFO - Loaded raw data: 74 lines\n"
     ]
    },
    {
     "name": "stdout",
     "output_type": "stream",
     "text": [
      "\n",
      "Sample of loaded data:\n",
      "  line_name     type                                              stops\n",
      "0         A   u-bahn  Pankow (Vinetastr.) - Schönhauser Allee - Dimi...\n",
      "1         E   u-bahn  Alexanderplatz - Schillingstr. - Strausberger ...\n",
      "2         1     tram  Adalbertstrasse Ecke Köpenickerstrasse - Ostba...\n",
      "3     A 1 P  autobus  Köpenickerstrasse Ecke Adalbertstrasse - S-Bhf...\n",
      "4         3     tram  Revalerstrasse (S-Bhf. Warschauer Strasse) - K...\n"
     ]
    }
   ],
   "source": [
    "# Load raw transcribed data\n",
    "raw_data_path = DATA_DIR / 'raw' / f'{YEAR}_{SIDE}.csv'\n",
    "raw_df = loader.load_raw_data(str(raw_data_path))\n",
    "logger.info(f\"Loaded raw data: {len(raw_df)} lines\")\n",
    "\n",
    "# Display sample of loaded data to verify\n",
    "print(\"\\nSample of loaded data:\")\n",
    "print(raw_df[['line_name', 'type', 'stops']].head())"
   ]
  },
  {
   "cell_type": "markdown",
   "metadata": {},
   "source": [
    "## Existing Station Reference Data\n",
    "\n",
    "To ensure consistency across years and facilitate geolocation, we maintain a reference dataset of known stations. This dataset:\n",
    "\n",
    "1. Serves as a lookup table for station coordinates\n",
    "2. Helps standardize station names across different time periods\n",
    "3. Provides unique identifiers for stations that persist across snapshots\n",
    "4. Records the lines that serve each station through time\n",
    "\n",
    "As we process new data, this reference dataset will be expanded with newly identified stations."
   ]
  },
  {
   "cell_type": "code",
   "execution_count": 4,
   "metadata": {},
   "outputs": [
    {
     "name": "stderr",
     "output_type": "stream",
     "text": [
      "2025-04-06 14:54:20,750 - INFO - Loaded existing stations: 3224 stations\n"
     ]
    }
   ],
   "source": [
    "# Load existing stations data\n",
    "existing_stations_path = DATA_DIR / 'processed' / 'existing_stations1.csv'\n",
    "existing_stations_df = pd.read_csv(existing_stations_path)\n",
    "\n",
    "# Format line lists in existing stations\n",
    "existing_stations_df['in_lines'] = existing_stations_df['in_lines'].apply(format_line_list)\n",
    "\n",
    "logger.info(f\"Loaded existing stations: {len(existing_stations_df)} stations\")"
   ]
  },
  {
   "cell_type": "markdown",
   "metadata": {},
   "source": [
    "## Initial Data Processing\n",
    "\n",
    "The TransportDataProcessor class transforms our raw data into structured tables:\n",
    "\n",
    "1. **Lines Table**: Contains information about each transportation line\n",
    "   - Unique identifiers\n",
    "   - Type (U-Bahn, S-Bahn, tram, bus)\n",
    "   - Terminal stations\n",
    "   - Service frequency\n",
    "   - Journey time and distance\n",
    "\n",
    "2. **Stops Table**: Contains information about each station\n",
    "   - Unique identifiers\n",
    "   - Station names\n",
    "   - Transportation type\n",
    "   - Placeholder for geographic coordinates\n",
    "\n",
    "This structured format facilitates network analysis and visualization in later stages."
   ]
  },
  {
   "cell_type": "code",
   "execution_count": 5,
   "metadata": {},
   "outputs": [
    {
     "name": "stderr",
     "output_type": "stream",
     "text": [
      "2025-04-06 14:54:20,760 - INFO - Using provided DataFrame\n",
      "2025-04-06 14:54:20,780 - INFO - Created tables: lines (74 rows), stops (743 rows), \n",
      "2025-04-06 14:54:20,781 - INFO - Initial processing complete\n"
     ]
    },
    {
     "name": "stdout",
     "output_type": "stream",
     "text": [
      "\n",
      "lines table shape: (74, 9)\n",
      "Sample of lines:\n"
     ]
    },
    {
     "data": {
      "application/vnd.microsoft.datawrangler.viewer.v0+json": {
       "columns": [
        {
         "name": "index",
         "rawType": "int64",
         "type": "integer"
        },
        {
         "name": "line_id",
         "rawType": "object",
         "type": "string"
        },
        {
         "name": "year",
         "rawType": "int64",
         "type": "integer"
        },
        {
         "name": "line_name",
         "rawType": "object",
         "type": "string"
        },
        {
         "name": "type",
         "rawType": "object",
         "type": "string"
        },
        {
         "name": "start_stop",
         "rawType": "object",
         "type": "string"
        },
        {
         "name": "length (time)",
         "rawType": "float64",
         "type": "float"
        },
        {
         "name": "length (km)",
         "rawType": "float64",
         "type": "float"
        },
        {
         "name": "east_west",
         "rawType": "object",
         "type": "string"
        },
        {
         "name": "frequency (7:30)",
         "rawType": "float64",
         "type": "float"
        }
       ],
       "conversionMethod": "pd.DataFrame",
       "ref": "50d75635-57ed-4473-bfc8-4c729226ef8c",
       "rows": [
        [
         "0",
         "19651",
         "1965",
         "A",
         "u-bahn",
         "Pankow (Vinetastr.)<> Thälmannplatz",
         "19.0",
         "7.5",
         "east",
         "5.0"
        ],
        [
         "1",
         "19652",
         "1965",
         "E",
         "u-bahn",
         "Alexanderplatz<> Friedrichsfelde (Tierpark)",
         "16.0",
         "7.1",
         "east",
         "5.0"
        ]
       ],
       "shape": {
        "columns": 9,
        "rows": 2
       }
      },
      "text/html": [
       "<div>\n",
       "<style scoped>\n",
       "    .dataframe tbody tr th:only-of-type {\n",
       "        vertical-align: middle;\n",
       "    }\n",
       "\n",
       "    .dataframe tbody tr th {\n",
       "        vertical-align: top;\n",
       "    }\n",
       "\n",
       "    .dataframe thead th {\n",
       "        text-align: right;\n",
       "    }\n",
       "</style>\n",
       "<table border=\"1\" class=\"dataframe\">\n",
       "  <thead>\n",
       "    <tr style=\"text-align: right;\">\n",
       "      <th></th>\n",
       "      <th>line_id</th>\n",
       "      <th>year</th>\n",
       "      <th>line_name</th>\n",
       "      <th>type</th>\n",
       "      <th>start_stop</th>\n",
       "      <th>length (time)</th>\n",
       "      <th>length (km)</th>\n",
       "      <th>east_west</th>\n",
       "      <th>frequency (7:30)</th>\n",
       "    </tr>\n",
       "  </thead>\n",
       "  <tbody>\n",
       "    <tr>\n",
       "      <th>0</th>\n",
       "      <td>19651</td>\n",
       "      <td>1965</td>\n",
       "      <td>A</td>\n",
       "      <td>u-bahn</td>\n",
       "      <td>Pankow (Vinetastr.)&lt;&gt; Thälmannplatz</td>\n",
       "      <td>19.0</td>\n",
       "      <td>7.5</td>\n",
       "      <td>east</td>\n",
       "      <td>5.0</td>\n",
       "    </tr>\n",
       "    <tr>\n",
       "      <th>1</th>\n",
       "      <td>19652</td>\n",
       "      <td>1965</td>\n",
       "      <td>E</td>\n",
       "      <td>u-bahn</td>\n",
       "      <td>Alexanderplatz&lt;&gt; Friedrichsfelde (Tierpark)</td>\n",
       "      <td>16.0</td>\n",
       "      <td>7.1</td>\n",
       "      <td>east</td>\n",
       "      <td>5.0</td>\n",
       "    </tr>\n",
       "  </tbody>\n",
       "</table>\n",
       "</div>"
      ],
      "text/plain": [
       "  line_id  year line_name    type  \\\n",
       "0   19651  1965         A  u-bahn   \n",
       "1   19652  1965         E  u-bahn   \n",
       "\n",
       "                                    start_stop  length (time)  length (km)  \\\n",
       "0          Pankow (Vinetastr.)<> Thälmannplatz           19.0          7.5   \n",
       "1  Alexanderplatz<> Friedrichsfelde (Tierpark)           16.0          7.1   \n",
       "\n",
       "  east_west  frequency (7:30)  \n",
       "0      east               5.0  \n",
       "1      east               5.0  "
      ]
     },
     "metadata": {},
     "output_type": "display_data"
    },
    {
     "name": "stdout",
     "output_type": "stream",
     "text": [
      "\n",
      "stops table shape: (743, 6)\n",
      "Sample of stops:\n"
     ]
    },
    {
     "data": {
      "application/vnd.microsoft.datawrangler.viewer.v0+json": {
       "columns": [
        {
         "name": "index",
         "rawType": "int64",
         "type": "integer"
        },
        {
         "name": "stop_name",
         "rawType": "object",
         "type": "string"
        },
        {
         "name": "type",
         "rawType": "object",
         "type": "string"
        },
        {
         "name": "line_name",
         "rawType": "object",
         "type": "string"
        },
        {
         "name": "stop_id",
         "rawType": "object",
         "type": "string"
        },
        {
         "name": "location",
         "rawType": "object",
         "type": "string"
        },
        {
         "name": "identifier",
         "rawType": "object",
         "type": "string"
        }
       ],
       "conversionMethod": "pd.DataFrame",
       "ref": "b3d531c3-89fb-4fd2-98a0-6d7956df1ac6",
       "rows": [
        [
         "0",
         "Pankow (Vinetastr.)",
         "u-bahn",
         "A",
         "19650_east",
         "",
         ""
        ],
        [
         "1",
         "Schönhauser Allee",
         "u-bahn",
         "A",
         "19651_east",
         "",
         ""
        ]
       ],
       "shape": {
        "columns": 6,
        "rows": 2
       }
      },
      "text/html": [
       "<div>\n",
       "<style scoped>\n",
       "    .dataframe tbody tr th:only-of-type {\n",
       "        vertical-align: middle;\n",
       "    }\n",
       "\n",
       "    .dataframe tbody tr th {\n",
       "        vertical-align: top;\n",
       "    }\n",
       "\n",
       "    .dataframe thead th {\n",
       "        text-align: right;\n",
       "    }\n",
       "</style>\n",
       "<table border=\"1\" class=\"dataframe\">\n",
       "  <thead>\n",
       "    <tr style=\"text-align: right;\">\n",
       "      <th></th>\n",
       "      <th>stop_name</th>\n",
       "      <th>type</th>\n",
       "      <th>line_name</th>\n",
       "      <th>stop_id</th>\n",
       "      <th>location</th>\n",
       "      <th>identifier</th>\n",
       "    </tr>\n",
       "  </thead>\n",
       "  <tbody>\n",
       "    <tr>\n",
       "      <th>0</th>\n",
       "      <td>Pankow (Vinetastr.)</td>\n",
       "      <td>u-bahn</td>\n",
       "      <td>A</td>\n",
       "      <td>19650_east</td>\n",
       "      <td></td>\n",
       "      <td></td>\n",
       "    </tr>\n",
       "    <tr>\n",
       "      <th>1</th>\n",
       "      <td>Schönhauser Allee</td>\n",
       "      <td>u-bahn</td>\n",
       "      <td>A</td>\n",
       "      <td>19651_east</td>\n",
       "      <td></td>\n",
       "      <td></td>\n",
       "    </tr>\n",
       "  </tbody>\n",
       "</table>\n",
       "</div>"
      ],
      "text/plain": [
       "             stop_name    type line_name     stop_id location identifier\n",
       "0  Pankow (Vinetastr.)  u-bahn         A  19650_east                    \n",
       "1    Schönhauser Allee  u-bahn         A  19651_east                    "
      ]
     },
     "metadata": {},
     "output_type": "display_data"
    }
   ],
   "source": [
    "# Process cleaned raw data\n",
    "processor = TransportDataProcessor(YEAR, SIDE)\n",
    "\n",
    "try:\n",
    "    # Pass the DataFrame directly\n",
    "    results = processor.process_raw_data(raw_df, existing_stations_df)\n",
    "    logger.info(\"Initial processing complete\")\n",
    "    \n",
    "    # Display processing results\n",
    "    for name, df in results.items():\n",
    "        print(f\"\\n{name} table shape: {df.shape}\")\n",
    "        print(f\"Sample of {name}:\")\n",
    "        display(df.head(2))  # Using display for better notebook output\n",
    "        \n",
    "except Exception as e:\n",
    "    logger.error(f\"Error in initial processing: {e}\")\n",
    "    raise"
   ]
  },
  {
   "cell_type": "markdown",
   "metadata": {},
   "source": [
    "## Saving Interim Results\n",
    "\n",
    "The processed tables are saved as interim files. These will be used in subsequent notebooks for:\n",
    "1. Geolocation verification and enhancement\n",
    "2. Data enrichment with administrative and temporal information\n",
    "3. Network construction and analysis\n",
    "\n",
    "By breaking the process into discrete steps, we can better manage the complexity and ensure quality at each stage."
   ]
  },
  {
   "cell_type": "code",
   "execution_count": 6,
   "metadata": {},
   "outputs": [
    {
     "name": "stderr",
     "output_type": "stream",
     "text": [
      "2025-04-06 14:54:20,836 - INFO - Saved lines table to ..\\data\\interim\\stops_base\\lines_1965_east.csv\n",
      "2025-04-06 14:54:20,841 - INFO - Saved stops table to ..\\data\\interim\\stops_base\\stops_1965_east.csv\n"
     ]
    }
   ],
   "source": [
    "# Save results\n",
    "for name, df in results.items():\n",
    "    output_path = DATA_DIR / 'interim' / 'stops_base' / f'{name}_{YEAR}_{SIDE}.csv'\n",
    "    output_path.parent.mkdir(parents=True, exist_ok=True)\n",
    "    df.to_csv(output_path, index=False)\n",
    "    logger.info(f\"Saved {name} table to {output_path}\")"
   ]
  },
  {
   "cell_type": "markdown",
   "metadata": {},
   "source": [
    "## Station Matching\n",
    "\n",
    "This step attempts to match stations in our current dataset with those in our reference database. This process:\n",
    "\n",
    "1. Compares station names and types to find potential matches\n",
    "2. Assigns geographic coordinates from matched stations\n",
    "3. Identifies stations that require manual geolocation\n",
    "4. Logs matching statistics for quality control\n",
    "\n",
    "Stations that cannot be automatically matched will be processed manually using OpenRefine in a subsequent step."
   ]
  },
  {
   "cell_type": "code",
   "execution_count": 7,
   "metadata": {},
   "outputs": [
    {
     "name": "stderr",
     "output_type": "stream",
     "text": [
      "2025-04-06 14:54:20,975 - INFO - No match found for station: Stadtmitte (Mohrenstr.)\n",
      "2025-04-06 14:54:21,010 - INFO - No match found for station: Frankfurter Allee (Ringbahn)\n"
     ]
    },
    {
     "name": "stderr",
     "output_type": "stream",
     "text": [
      "2025-04-06 14:54:21,032 - INFO - No match found for station: Adalbertstrasse Ecke Köpenickerstrasse\n",
      "2025-04-06 14:54:21,050 - WARNING - Matched station Alexanderplatz, Memhardstrasse by name/type only, line 1 not found in existing lines\n",
      "2025-04-06 14:54:21,056 - INFO - No match found for station: Invalidenstrasse Ecke Brunnenstrasse\n",
      "2025-04-06 14:54:21,060 - INFO - No match found for station: Chausseestrasse Ecke Invalidenstrasse\n",
      "2025-04-06 14:54:21,062 - WARNING - Matched station Walter-Ulbricht-Stadion by name/type only, line 1 not found in existing lines\n",
      "2025-04-06 14:54:21,066 - WARNING - Matched station Köpenickerstrasse Ecke Adalbertstrasse by name/type only, line A 1 P not found in existing lines\n",
      "2025-04-06 14:54:21,071 - WARNING - Matched station S-Bhf. Jannowitzbrücke by name/type only, line A 1 P not found in existing lines\n",
      "2025-04-06 14:54:21,075 - WARNING - Matched station Alexanderplatz, Grunerstrasse by name/type only, line A 1 P not found in existing lines\n",
      "2025-04-06 14:54:21,078 - INFO - No match found for station: Revalerstrasse (S-Bhf. Warschauer Strasse)\n",
      "2025-04-06 14:54:21,084 - INFO - No match found for station: Boxhagenerstrasse\n",
      "2025-04-06 14:54:21,091 - INFO - No match found for station: HohenSchönhauser Strasse\n",
      "2025-04-06 14:54:21,094 - INFO - No match found for station: Omnibus Bhf. Lichtenberger Strasse\n",
      "2025-04-06 14:54:21,109 - INFO - No match found for station: Revalerstrasse (S-Bhf. Warschauer Strasse)\n",
      "2025-04-06 14:54:21,112 - INFO - No match found for station: Grünberger Strasse Ecke Warschauerstrasse\n",
      "2025-04-06 14:54:21,119 - WARNING - Matched station Leninallee Ecke Dimitroffstrasse by name/type only, line 4 not found in existing lines\n",
      "2025-04-06 14:54:21,123 - WARNING - Matched station Kniprodestrasse Ecke Dimitroffstrasse by name/type only, line 4 not found in existing lines\n",
      "2025-04-06 14:54:21,125 - WARNING - Matched station Greifswalder Strasse Ecke Dimitroffstrasse by name/type only, line 4 not found in existing lines\n",
      "2025-04-06 14:54:21,128 - WARNING - Matched station Prenzlauer Allee Ecke Dimitroffstrasse by name/type only, line 4 not found in existing lines\n",
      "2025-04-06 14:54:21,134 - INFO - No match found for station: Eberswalder Strasse\n",
      "2025-04-06 14:54:21,136 - INFO - No match found for station: Heinrich-Heine-Strasse Ecke Schmidstrasse\n",
      "2025-04-06 14:54:21,156 - WARNING - Matched station Invalidenstrasse Ecke Chausseestrasse by name/type only, line 11 not found in existing lines\n",
      "2025-04-06 14:54:21,166 - INFO - No match found for station: Clara-Zetkin-Strasse Ecke Friedrichstrasse\n",
      "2025-04-06 14:54:21,241 - WARNING - Matched station U-Bhf. Pankow by name/type only, line 22 not found in existing lines\n",
      "2025-04-06 14:54:21,283 - WARNING - Matched station U-Bhf. Pankow by name/type only, line 46 not found in existing lines\n",
      "2025-04-06 14:54:21,296 - WARNING - Matched station Brunnenstrasse Ecke Invalidenstrasse by name/type only, line 46 not found in existing lines\n",
      "2025-04-06 14:54:21,308 - INFO - No match found for station: Niederschönhausen, Idastrasse\n",
      "2025-04-06 14:54:21,313 - WARNING - Matched station Ossietzkyplatz by name/type only, line 46P not found in existing lines\n",
      "2025-04-06 14:54:21,334 - WARNING - Matched station U-Bhf. Pankow by name/type only, line 49 not found in existing lines\n",
      "2025-04-06 14:54:21,352 - INFO - No match found for station: Berlinerstrasse Ecke Hauptstrasse\n",
      "2025-04-06 14:54:21,376 - INFO - No match found for station: Berlinerstrasse Ecke Falkenbergerstrasse\n",
      "2025-04-06 14:54:21,447 - WARNING - Matched station Johannisthal, Haeckelstrasse by name/type only, line 69 E not found in existing lines\n",
      "2025-04-06 14:54:21,449 - WARNING - Matched station Bhf. Schöneweide by name/type only, line 69 E not found in existing lines\n",
      "2025-04-06 14:54:21,452 - WARNING - Matched station Wilhelminenhofstrasse by name/type only, line 69 E not found in existing lines\n",
      "2025-04-06 14:54:21,454 - WARNING - Matched station S-Bhf. Karlshorst by name/type only, line 69 E not found in existing lines\n",
      "2025-04-06 14:54:21,457 - WARNING - Matched station Hochschule für Ökonomie by name/type only, line 69 E not found in existing lines\n",
      "2025-04-06 14:54:21,460 - WARNING - Matched station Tierpark Berlin by name/type only, line 69 E not found in existing lines\n",
      "2025-04-06 14:54:21,464 - WARNING - Matched station Alt-Friedrichsfelde Ecke Am Tierpark by name/type only, line 69 E not found in existing lines\n",
      "2025-04-06 14:54:21,467 - WARNING - Matched station Bhf. Lichtenberg by name/type only, line 69 E not found in existing lines\n",
      "2025-04-06 14:54:21,469 - WARNING - Matched station Strab. Bhf. Siegfriedstrasse by name/type only, line 69 E not found in existing lines\n",
      "2025-04-06 14:54:21,472 - WARNING - Matched station Herzbergstrasse by name/type only, line 69 E not found in existing lines\n",
      "2025-04-06 14:54:21,475 - WARNING - Matched station Roederplatz by name/type only, line 69 E not found in existing lines\n",
      "2025-04-06 14:54:21,478 - WARNING - Matched station Steuerhaus by name/type only, line 69 E not found in existing lines\n",
      "2025-04-06 14:54:21,480 - WARNING - Matched station Dimitroffstrasse Ecke Landsberger Allee by name/type only, line 69 E not found in existing lines\n",
      "2025-04-06 14:54:21,483 - WARNING - Matched station Kniprodestrasse Ecke Dimitroffstrasse by name/type only, line 69 E not found in existing lines\n",
      "2025-04-06 14:54:21,495 - WARNING - Matched station Lichtenberger Strasse Ecke Klement-Gottwald-Allee by name/type only, line 70 not found in existing lines\n",
      "2025-04-06 14:54:21,501 - WARNING - Matched station Prenzlauer Promenade Ecke Ostseestrasse by name/type only, line 70 not found in existing lines\n",
      "2025-04-06 14:54:21,508 - INFO - No match found for station: Brunnenstrasse Ecke Veteranenstrasse\n",
      "2025-04-06 14:54:21,510 - INFO - No match found for station: Chausseestrasse Ecke Invalidenstrasse\n",
      "2025-04-06 14:54:21,524 - WARNING - Matched station Prenzlauer Promenade Ecke Ostseestrasse by name/type only, line 71 not found in existing lines\n",
      "2025-04-06 14:54:21,532 - INFO - No match found for station: Saarbrückerstrasse Ecke Prenzlauer Allee\n",
      "2025-04-06 14:54:21,535 - WARNING - Matched station Alexanderplatz, Memhardstrasse by name/type only, line 71 not found in existing lines\n",
      "2025-04-06 14:54:21,544 - WARNING - Matched station Buschallee Ecke Klement-Gottwald-Allee by name/type only, line 72 not found in existing lines\n",
      "2025-04-06 14:54:21,557 - WARNING - Matched station Prenzlauer Allee Ecke Dimitroffstrasse by name/type only, line 72 not found in existing lines\n",
      "2025-04-06 14:54:21,579 - INFO - No match found for station: Bernkasteler Strasse Ecke Klement-Gottwald-Allee\n",
      "2025-04-06 14:54:21,584 - INFO - No match found for station: Klement-Gottwald-Allee Ecke Buschallee\n",
      "2025-04-06 14:54:21,590 - WARNING - Matched station Lichtenberger Strasse Ecke Klement-Gottwald-Allee by name/type only, line 74 E not found in existing lines\n",
      "2025-04-06 14:54:21,597 - WARNING - Matched station Antonplatz by name/type only, line 74 E not found in existing lines\n",
      "2025-04-06 14:54:21,603 - WARNING - Matched station S-Bhf. Greifswalder Strasse by name/type only, line 74 E not found in existing lines\n",
      "2025-04-06 14:54:21,611 - WARNING - Matched station Dimitroffstrasse Ecke Greifswalderstrasse by name/type only, line 74 E not found in existing lines\n",
      "2025-04-06 14:54:21,619 - WARNING - Matched station Königstor by name/type only, line 74 E not found in existing lines\n",
      "2025-04-06 14:54:21,624 - WARNING - Matched station Alexanderplatz, Memhardstrasse by name/type only, line 74 E not found in existing lines\n",
      "2025-04-06 14:54:21,631 - WARNING - Matched station S-Bhf. Jannowitzbrücke by name/type only, line 74 E not found in existing lines\n",
      "2025-04-06 14:54:21,638 - WARNING - Matched station Spittelmarkt by name/type only, line 74 E not found in existing lines\n",
      "2025-04-06 14:54:21,645 - WARNING - Matched station Weißensee, Pasedagplatz by name/type only, line 74 not found in existing lines\n",
      "2025-04-06 14:54:21,651 - INFO - No match found for station: Buschallee Ecke Klement-Gottwald-Strasse\n",
      "2025-04-06 14:54:21,656 - INFO - No match found for station: Lichtenberger-Strasse Ecke Klement-Gottwald-Strasse\n",
      "2025-04-06 14:54:21,731 - WARNING - Matched station Brunnenstrasse Ecke Invalidenstrasse by name/type only, line 82 not found in existing lines\n",
      "2025-04-06 14:54:21,735 - INFO - No match found for station: Chausseestrasse Ecke Invalidenstrasse\n",
      "2025-04-06 14:54:21,753 - INFO - No match found for station: Betriebsstelle Köpenick\n",
      "2025-04-06 14:54:21,797 - INFO - No match found for station: Betriebsstelle Köpenick\n",
      "2025-04-06 14:54:21,799 - WARNING - Matched station Lindenstrasse/Hegelschule by name/type only, line 85 not found in existing lines\n",
      "2025-04-06 14:54:21,824 - WARNING - Matched station Bahnhofstrasse by name/type only, line 86 not found in existing lines\n",
      "2025-04-06 14:54:21,969 - INFO - No match found for station: Schöneiche, Dorfaue\n",
      "2025-04-06 14:54:21,991 - WARNING - Matched station Rüdersdorf, Thälmannstrasse by name/type only, line S-Bhf. Friedrichshagen <> Rüdersdorf, Karl-Marx-Platz (VEB Schöneiche-Rüdersdorf) not found in existing lines\n",
      "2025-04-06 14:54:22,040 - WARNING - Matched station Andreasstrasse by name/type only, line O30 not found in existing lines\n",
      "2025-04-06 14:54:22,045 - WARNING - Matched station Küstriner Platz by name/type only, line O30 not found in existing lines\n",
      "2025-04-06 14:54:22,050 - WARNING - Matched station Warschauer Strasse by name/type only, line O30 not found in existing lines\n",
      "2025-04-06 14:54:22,056 - WARNING - Matched station Boxhagenerstrasse Ecke Holteistrasse by name/type only, line O30 not found in existing lines\n",
      "2025-04-06 14:54:22,061 - WARNING - Matched station S-Bhf. Rummelsburg by name/type only, line O30 not found in existing lines\n",
      "2025-04-06 14:54:22,072 - WARNING - Matched station Bhf. Lichtenberg by name/type only, line O30 not found in existing lines\n",
      "2025-04-06 14:54:22,084 - WARNING - Matched station Roederplatz by name/type only, line O30 not found in existing lines\n",
      "2025-04-06 14:54:22,091 - WARNING - Matched station Ebertystrasse Ecke Leninallee by name/type only, line O30 not found in existing lines\n",
      "2025-04-06 14:54:22,096 - WARNING - Matched station Greifswalderstrasse Ecke Dimitroffstrasse by name/type only, line O30 not found in existing lines\n",
      "2025-04-06 14:54:22,101 - WARNING - Matched station Königstor by name/type only, line O30 not found in existing lines\n",
      "2025-04-06 14:54:22,111 - WARNING - Matched station Klosterstrasse by name/type only, line O30 not found in existing lines\n",
      "2025-04-06 14:54:22,132 - WARNING - Matched station Weißenseer Weg by name/type only, line O37 not found in existing lines\n",
      "2025-04-06 14:54:22,143 - WARNING - Matched station Bürknersfelde by name/type only, line O37 not found in existing lines\n",
      "2025-04-06 14:54:22,153 - WARNING - Matched station Alt-Marzahn, Kirche by name/type only, line O37 not found in existing lines\n",
      "2025-04-06 14:54:22,156 - WARNING - Matched station Elisabethstrasse by name/type only, line O37 not found in existing lines\n",
      "2025-04-06 14:54:22,165 - WARNING - Matched station S-Bhf. Biesdorf by name/type only, line O37 not found in existing lines\n",
      "2025-04-06 14:54:22,169 - WARNING - Matched station Alt-Biesdorf, Oberfeldstrasse by name/type only, line O37 not found in existing lines\n",
      "2025-04-06 14:54:22,176 - WARNING - Matched station Bhf. Lichtenberg by name/type only, line O37 not found in existing lines\n",
      "2025-04-06 14:54:22,182 - WARNING - Matched station Ostbahnhof by name/type only, line O40 not found in existing lines\n",
      "2025-04-06 14:54:22,187 - WARNING - Matched station Küstriner Platz by name/type only, line O40 not found in existing lines\n",
      "2025-04-06 14:54:22,192 - WARNING - Matched station Karl-Marx-Allee by name/type only, line O40 not found in existing lines\n",
      "2025-04-06 14:54:22,200 - WARNING - Matched station Leninplatz by name/type only, line O40 not found in existing lines\n",
      "2025-04-06 14:54:22,203 - WARNING - Matched station Königstor by name/type only, line O40 not found in existing lines\n",
      "2025-04-06 14:54:22,208 - WARNING - Matched station Prenzlauer Tor by name/type only, line O40 not found in existing lines\n",
      "2025-04-06 14:54:22,212 - WARNING - Matched station Rosenthaler Platz by name/type only, line O40 not found in existing lines\n",
      "2025-04-06 14:54:22,215 - WARNING - Matched station Oranienburger Tor by name/type only, line O40 not found in existing lines\n",
      "2025-04-06 14:54:22,219 - WARNING - Matched station Robert-Koch-Platz by name/type only, line O40 not found in existing lines\n",
      "2025-04-06 14:54:22,221 - INFO - No match found for station: Lutherstrasse Ecke Lindenstrasse\n",
      "2025-04-06 14:54:22,226 - WARNING - Matched station S-Bhf. Wilhelmshagen by name/type only, line A22 not found in existing lines\n",
      "2025-04-06 14:54:22,233 - WARNING - Matched station Zentralschule by name/type only, line A22 not found in existing lines\n",
      "2025-04-06 14:54:22,237 - WARNING - Matched station Waldschänke by name/type only, line A22 not found in existing lines\n",
      "2025-04-06 14:54:22,243 - WARNING - Matched station S-Bhf. Rahnsdorf by name/type only, line A22 not found in existing lines\n",
      "2025-04-06 14:54:22,246 - WARNING - Matched station Fichtenau, Stadtgrenze by name/type only, line A22 not found in existing lines\n",
      "2025-04-06 14:54:22,253 - WARNING - Matched station S-Bhf. Grünbergallee by name/type only, line A23 not found in existing lines\n",
      "2025-04-06 14:54:22,256 - WARNING - Matched station S-Bhf. Altglienicke by name/type only, line A23 not found in existing lines\n",
      "2025-04-06 14:54:22,258 - WARNING - Matched station Normannenstrasse by name/type only, line A23 not found in existing lines\n",
      "2025-04-06 14:54:22,261 - WARNING - Matched station Wolfmarsteig by name/type only, line A23 not found in existing lines\n",
      "2025-04-06 14:54:22,270 - WARNING - Matched station Altglienicke, Kirche by name/type only, line A23 not found in existing lines\n",
      "2025-04-06 14:54:22,283 - WARNING - Matched station Bhf. Schöneweide by name/type only, line A26 not found in existing lines\n",
      "2025-04-06 14:54:22,288 - WARNING - Matched station S-Bhf. Kaulsdorf, Planitzstrasse by name/type only, line A27 not found in existing lines\n",
      "2025-04-06 14:54:22,295 - WARNING - Matched station Ulmenstrasse by name/type only, line A27 not found in existing lines\n",
      "2025-04-06 14:54:22,298 - WARNING - Matched station Wongrowitzer Steig by name/type only, line A27 not found in existing lines\n",
      "2025-04-06 14:54:22,301 - WARNING - Matched station S-Bhf. Köpenick by name/type only, line A27 not found in existing lines\n",
      "2025-04-06 14:54:22,306 - WARNING - Matched station Bahnhofstrasse Ecke Lindenstrasse by name/type only, line A27 not found in existing lines\n",
      "2025-04-06 14:54:22,330 - WARNING - Matched station Müggelseeperle by name/type only, line A27 not found in existing lines\n",
      "2025-04-06 14:54:22,333 - WARNING - Matched station Müggelheim by name/type only, line A27 not found in existing lines\n",
      "2025-04-06 14:54:22,340 - WARNING - Matched station Schönefeld, Kirche by name/type only, line A36 not found in existing lines\n",
      "2025-04-06 14:54:22,342 - WARNING - Matched station Bhf. Schönefeld by name/type only, line A36 not found in existing lines\n",
      "2025-04-06 14:54:22,348 - WARNING - Matched station S-Bhf. Grünbergallee by name/type only, line A36 not found in existing lines\n",
      "2025-04-06 14:54:22,354 - WARNING - Matched station Bohnsdorf, Kirche by name/type only, line A36 not found in existing lines\n",
      "2025-04-06 14:54:22,357 - WARNING - Matched station Gartenstadtweg by name/type only, line A36 not found in existing lines\n",
      "2025-04-06 14:54:22,361 - WARNING - Matched station S-Bhf. Grünau by name/type only, line A36 not found in existing lines\n",
      "2025-04-06 14:54:22,375 - WARNING - Matched station Waltersdorf by name/type only, line AD/38 not found in existing lines\n",
      "2025-04-06 14:54:22,380 - WARNING - Matched station Bohnsdorf, Waldstrasse by name/type only, line AD/38 not found in existing lines\n",
      "2025-04-06 14:54:22,387 - WARNING - Matched station Eichbuschplatz by name/type only, line AD/38 not found in existing lines\n",
      "2025-04-06 14:54:22,390 - WARNING - Matched station Joachimstrasse by name/type only, line AD/38 not found in existing lines\n",
      "2025-04-06 14:54:22,394 - WARNING - Matched station S-Bhf. Grünau by name/type only, line AD/38 not found in existing lines\n",
      "2025-04-06 14:54:22,400 - WARNING - Matched station Wartenberg, Siedlung by name/type only, line A39 not found in existing lines\n",
      "2025-04-06 14:54:22,404 - WARNING - Matched station Wartenberg, Dorfstrasse by name/type only, line A39 not found in existing lines\n",
      "2025-04-06 14:54:22,417 - WARNING - Matched station Hohenschönhausen, Falkenberger Strasse by name/type only, line A39 not found in existing lines\n",
      "2025-04-06 14:54:22,420 - WARNING - Matched station Buch, Kiesgruben by name/type only, line A42 not found in existing lines\n",
      "2025-04-06 14:54:22,430 - WARNING - Matched station Strasse 78 by name/type only, line A42 not found in existing lines\n",
      "2025-04-06 14:54:22,437 - WARNING - Matched station Güteraußenring by name/type only, line A42 not found in existing lines\n",
      "2025-04-06 14:54:22,442 - WARNING - Matched station Blankenburg, Bahnhofstrasse by name/type only, line A42 not found in existing lines\n",
      "2025-04-06 14:54:22,446 - WARNING - Matched station Heinersdorf, Kirche by name/type only, line A42 not found in existing lines\n",
      "2025-04-06 14:54:22,448 - WARNING - Matched station Am Steinberg by name/type only, line A42 not found in existing lines\n",
      "2025-04-06 14:54:22,454 - WARNING - Matched station Marzahn, Berliner Chaussee by name/type only, line A43 not found in existing lines\n",
      "2025-04-06 14:54:22,456 - WARNING - Matched station Güterbahnhof Springpfuhl by name/type only, line A43 not found in existing lines\n",
      "2025-04-06 14:54:22,460 - WARNING - Matched station S-Bhf. Friedrichsfelde-Ost by name/type only, line A43 not found in existing lines\n",
      "2025-04-06 14:54:22,475 - WARNING - Matched station Hönow, Dorfstrasse by name/type only, line A44 not found in existing lines\n",
      "2025-04-06 14:54:22,479 - WARNING - Matched station Greifswalder Strasse by name/type only, line A44 not found in existing lines\n",
      "2025-04-06 14:54:22,483 - WARNING - Matched station Am Rosenhag by name/type only, line A44 not found in existing lines\n",
      "2025-04-06 14:54:22,487 - WARNING - Matched station S-Bhf. Mahlsdorf by name/type only, line A44 not found in existing lines\n",
      "2025-04-06 14:54:22,497 - WARNING - Matched station Am Rosenhag by name/type only, line A44E not found in existing lines\n",
      "2025-04-06 14:54:22,502 - WARNING - Matched station S-Bhf. Mahlsdorf by name/type only, line A44E not found in existing lines\n",
      "2025-04-06 14:54:22,512 - WARNING - Matched station Hauptstrasse Ecke Edelweißstrasse by name/type only, line A45 not found in existing lines\n",
      "2025-04-06 14:54:22,519 - WARNING - Matched station Heinrich-Mann-Platz by name/type only, line A45 not found in existing lines\n",
      "2025-04-06 14:54:22,525 - WARNING - Matched station Pankow, Rathaus by name/type only, line A45 not found in existing lines\n",
      "2025-04-06 14:54:22,531 - WARNING - Matched station Pankow, Kirche by name/type only, line A45 not found in existing lines\n",
      "2025-04-06 14:54:22,536 - WARNING - Matched station Prenzlauer Promenade Ecke Kissingenstrasse by name/type only, line A45 not found in existing lines\n",
      "2025-04-06 14:54:22,541 - WARNING - Matched station Am Steinberg by name/type only, line A45 not found in existing lines\n",
      "2025-04-06 14:54:22,546 - WARNING - Matched station Hamburger Platz by name/type only, line A45 not found in existing lines\n",
      "2025-04-06 14:54:22,550 - INFO - No match found for station: Klement-Gottwald-Allee Ecke Pistoriusstrasse\n",
      "2025-04-06 14:54:22,560 - WARNING - Matched station Klement-Gottwald-Allee Ecke Rennbahnstrasse by name/type only, line A45 not found in existing lines\n",
      "2025-04-06 14:54:22,567 - WARNING - Matched station Feldtmannstrasse by name/type only, line A45 not found in existing lines\n",
      "2025-04-06 14:54:22,572 - WARNING - Matched station Weißensee, Schwarzelfenweg by name/type only, line A45 not found in existing lines\n",
      "2025-04-06 14:54:22,578 - WARNING - Matched station Ahrensfelde, Kirche by name/type only, line A46 not found in existing lines\n",
      "2025-04-06 14:54:22,582 - WARNING - Matched station LPG Falkenberg by name/type only, line A46 not found in existing lines\n",
      "2025-04-06 14:54:22,586 - WARNING - Matched station Malchower Weg by name/type only, line A46 not found in existing lines\n",
      "2025-04-06 14:54:22,591 - WARNING - Matched station Buschallee Ecke Klement-Gottwald-Allee by name/type only, line A46 not found in existing lines\n",
      "2025-04-06 14:54:22,596 - WARNING - Matched station Klement-Gottwald-Allee Ecke Rennbahnstrasse by name/type only, line A46 not found in existing lines\n",
      "2025-04-06 14:54:22,602 - WARNING - Matched station Feldtmannstrasse by name/type only, line A46 not found in existing lines\n",
      "2025-04-06 14:54:22,609 - WARNING - Matched station Malchow, Dorfstrasse by name/type only, line A46 not found in existing lines\n",
      "2025-04-06 14:54:22,614 - WARNING - Matched station Bhf. Schöneweide by name/type only, line A47 not found in existing lines\n",
      "2025-04-06 14:54:22,619 - WARNING - Matched station Sterndamm by name/type only, line A47 not found in existing lines\n",
      "2025-04-06 14:54:22,624 - WARNING - Matched station Johannisthaler Chaussee by name/type only, line A47 not found in existing lines\n",
      "2025-04-06 14:54:22,636 - WARNING - Matched station S-Bhf. Baumschulenweg by name/type only, line A47 not found in existing lines\n",
      "2025-04-06 14:54:22,642 - WARNING - Matched station Eichbuschallee by name/type only, line A47 not found in existing lines\n",
      "2025-04-06 14:54:22,648 - WARNING - Matched station Treptow, Rathaus by name/type only, line A47 not found in existing lines\n",
      "2025-04-06 14:54:22,660 - WARNING - Matched station S-Bhf. Treptower Park by name/type only, line A47 not found in existing lines\n",
      "2025-04-06 14:54:22,668 - WARNING - Matched station Bhf. Schöneweide by name/type only, line A48 not found in existing lines\n",
      "2025-04-06 14:54:22,696 - WARNING - Matched station Ridbacher Strasse by name/type only, line A49 not found in existing lines\n",
      "2025-04-06 14:54:22,702 - WARNING - Matched station Grottkauer Strasse by name/type only, line A49 not found in existing lines\n",
      "2025-04-06 14:54:22,708 - WARNING - Matched station Uckermarkstrasse by name/type only, line A49 not found in existing lines\n",
      "2025-04-06 14:54:22,726 - INFO - No match found for station: Wilhelmsruh, Hauptstrasse\n",
      "2025-04-06 14:54:22,730 - WARNING - Matched station Heinrich-Mann-Platz by name/type only, line A55 not found in existing lines\n",
      "2025-04-06 14:54:22,734 - WARNING - Matched station Pankow, Rathaus by name/type only, line A55 not found in existing lines\n",
      "2025-04-06 14:54:22,738 - WARNING - Matched station Pankow, Kirche by name/type only, line A55 not found in existing lines\n",
      "2025-04-06 14:54:22,741 - WARNING - Matched station Prenzlauer Promenade Ecke Kissingenstrasse by name/type only, line A55 not found in existing lines\n",
      "2025-04-06 14:54:22,745 - WARNING - Matched station Am Steinberg by name/type only, line A55 not found in existing lines\n",
      "2025-04-06 14:54:22,751 - WARNING - Matched station Hamburger Platz by name/type only, line A55 not found in existing lines\n",
      "2025-04-06 14:54:22,757 - INFO - No match found for station: Klement-Gottwald-Allee Ecke Pistoriusstrasse\n",
      "2025-04-06 14:54:22,761 - WARNING - Matched station Lichtenberger Strasse Ecke Klement-Gottwald-Allee by name/type only, line A55 not found in existing lines\n",
      "2025-04-06 14:54:22,768 - WARNING - Matched station Klement-Gottwald-Allee Ecke Rennbahnstrasse by name/type only, line A55 not found in existing lines\n",
      "2025-04-06 14:54:22,774 - INFO - No match found for station: Klement-Gottwald-Allee Ecke Feldtmannstrasse\n",
      "2025-04-06 14:54:22,776 - INFO - No match found for station: Weißensee, Piesporter Strasse\n",
      "2025-04-06 14:54:22,783 - WARNING - Matched station Weißensee, Nüßlerstrasse by name/type only, line A56 not found in existing lines\n",
      "2025-04-06 14:54:22,796 - WARNING - Matched station Rennbahnstrasse Ecke Gustav-Adolf-Strasse by name/type only, line A56 not found in existing lines\n",
      "2025-04-06 14:54:22,810 - WARNING - Matched station Hamburger Platz by name/type only, line A56 not found in existing lines\n",
      "2025-04-06 14:54:22,815 - WARNING - Matched station Prenzlauer Promenade by name/type only, line A56 not found in existing lines\n",
      "2025-04-06 14:54:22,820 - INFO - No match found for station: Prenzlauer Allee, Wichertstrasse\n",
      "2025-04-06 14:54:22,840 - INFO - No match found for station: Am Friedrichshain\n",
      "2025-04-06 14:54:22,846 - WARNING - Matched station Königstor by name/type only, line A57 not found in existing lines\n",
      "2025-04-06 14:54:22,852 - WARNING - Matched station S-Bhf. Alexanderplatz by name/type only, line A57 not found in existing lines\n",
      "2025-04-06 14:54:22,859 - WARNING - Matched station Marx-Engels-Platz by name/type only, line A57 not found in existing lines\n",
      "2025-04-06 14:54:22,868 - WARNING - Matched station Friedrichstrasse Ecke Unter den Linden by name/type only, line A57 not found in existing lines\n",
      "2025-04-06 14:54:22,877 - WARNING - Matched station Bhf. Friedrichstrasse by name/type only, line A57 not found in existing lines\n",
      "2025-04-06 14:54:22,886 - WARNING - Matched station Schumannstrasse Ecke Reinhardtstrasse by name/type only, line A57 not found in existing lines\n",
      "2025-04-06 14:54:22,894 - WARNING - Matched station Robert-Koch-Platz by name/type only, line A57 not found in existing lines\n",
      "2025-04-06 14:54:22,907 - WARNING - Matched station Hauptstrasse Ecke Hertzstrasse by name/type only, line A58 not found in existing lines\n",
      "2025-04-06 14:54:22,911 - WARNING - Matched station Heinrich-Mann-Platz by name/type only, line A58 not found in existing lines\n",
      "2025-04-06 14:54:22,920 - WARNING - Matched station Pankow, Rathaus by name/type only, line A58 not found in existing lines\n",
      "2025-04-06 14:54:22,926 - WARNING - Matched station Pankow, Kirche by name/type only, line A58 not found in existing lines\n",
      "2025-04-06 14:54:22,933 - WARNING - Matched station S-Bhf. Pankow by name/type only, line A58 not found in existing lines\n",
      "2025-04-06 14:54:22,938 - WARNING - Matched station U-Bhf. Pankow (Vinetastrasse) by name/type only, line A58 not found in existing lines\n",
      "2025-04-06 14:54:22,959 - WARNING - Matched station Oranienburger Tor by name/type only, line A59 not found in existing lines\n",
      "2025-04-06 14:54:22,964 - WARNING - Matched station Bhf. Friedrichstrasse by name/type only, line A59 not found in existing lines\n",
      "2025-04-06 14:54:22,976 - WARNING - Matched station U-Bhf. Stadtmitte by name/type only, line A59 not found in existing lines\n",
      "2025-04-06 14:54:22,985 - WARNING - Matched station U-Bhf. Thälmannplatz by name/type only, line A59 not found in existing lines\n",
      "2025-04-06 14:54:22,990 - WARNING - Matched station Glienicke, Kirche by name/type only, line A7 not found in existing lines\n",
      "2025-04-06 14:54:22,997 - WARNING - Matched station Elsässer Strasse by name/type only, line A7 not found in existing lines\n",
      "2025-04-06 14:54:23,004 - WARNING - Matched station Schildow, Kirche by name/type only, line A7 not found in existing lines\n",
      "2025-04-06 14:54:23,009 - WARNING - Matched station Blankenfelde, Hauptstrasse by name/type only, line A7 not found in existing lines\n",
      "2025-04-06 14:54:23,018 - WARNING - Matched station Nordend by name/type only, line A7 not found in existing lines\n",
      "2025-04-06 14:54:23,027 - WARNING - Matched station Kurt-Fischer-Platz by name/type only, line A7 not found in existing lines\n",
      "2025-04-06 14:54:23,030 - WARNING - Matched station Pankow, Rathaus by name/type only, line A7 not found in existing lines\n",
      "2025-04-06 14:54:23,039 - WARNING - Matched station Schildow, Kirche by name/type only, line A7E not found in existing lines\n",
      "2025-04-06 14:54:23,043 - WARNING - Matched station Blankenfelde, Hauptstrasse by name/type only, line A7E not found in existing lines\n",
      "2025-04-06 14:54:23,046 - WARNING - Matched station Industriebahn by name/type only, line A7E not found in existing lines\n",
      "2025-04-06 14:54:23,051 - WARNING - Matched station Nordend by name/type only, line A7E not found in existing lines\n",
      "2025-04-06 14:54:23,055 - WARNING - Matched station Kurt-Fischer-Platz by name/type only, line A7E not found in existing lines\n",
      "2025-04-06 14:54:23,059 - WARNING - Matched station Pankow, Rathaus by name/type only, line A7E not found in existing lines\n",
      "2025-04-06 14:54:23,072 - WARNING - Matched station Fichtestrasse Ecke Schopenhauerstrasse by name/type only, line A8 not found in existing lines\n",
      "2025-04-06 14:54:23,075 - WARNING - Matched station Hultschiner Damm by name/type only, line A8 not found in existing lines\n",
      "2025-04-06 14:54:23,078 - WARNING - Matched station Sadowastrasse by name/type only, line A8 not found in existing lines\n",
      "2025-04-06 14:54:23,102 - WARNING - Matched station Sadowastrasse by name/type only, line A8E not found in existing lines\n",
      "2025-04-06 14:54:23,108 - WARNING - Matched station Sadowastrasse Ecke Ulmenstrasse by name/type only, line A8E not found in existing lines\n",
      "2025-04-06 14:54:23,140 - WARNING - Matched station Kurische Strasse by name/type only, line A9 not found in existing lines\n",
      "2025-04-06 14:54:23,144 - WARNING - Matched station Arnswalder Platz by name/type only, line A9 not found in existing lines\n",
      "2025-04-06 14:54:23,148 - WARNING - Matched station Königstor by name/type only, line A9 not found in existing lines\n",
      "2025-04-06 14:54:23,154 - WARNING - Matched station S-Bhf. Alexanderplatz by name/type only, line A9 not found in existing lines\n",
      "2025-04-06 14:54:23,158 - WARNING - Matched station Marx-Engels-Platz by name/type only, line A9 not found in existing lines\n",
      "2025-04-06 14:54:23,163 - WARNING - Matched station Friedrichstrasse Ecke Unter den Linden by name/type only, line A9 not found in existing lines\n",
      "2025-04-06 14:54:23,166 - WARNING - Matched station Bhf. Friedrichstrasse by name/type only, line A9 not found in existing lines\n",
      "2025-04-06 14:54:23,170 - WARNING - Matched station Oranienburger Tor by name/type only, line A9 not found in existing lines\n",
      "2025-04-06 14:54:23,175 - WARNING - Matched station Platz vor dem Neuen Tor by name/type only, line A9 not found in existing lines\n",
      "2025-04-06 14:54:23,178 - WARNING - Matched station Scharnhorststrasse Ecke Kieler Strasse by name/type only, line A9 not found in existing lines\n",
      "2025-04-06 14:54:23,184 - WARNING - Matched station Neu-Lindenberg by name/type only, line AL not found in existing lines\n",
      "2025-04-06 14:54:23,195 - WARNING - Matched station Malchow, Dorfstrasse by name/type only, line AL not found in existing lines\n",
      "2025-04-06 14:54:23,220 - WARNING - Matched station Schildow, Kirche by name/type only, line AS not found in existing lines\n",
      "2025-04-06 14:54:23,223 - INFO - No match found for station: Groß Ziethen, Friedrich-Ebert-Strasse\n",
      "2025-04-06 14:54:23,226 - WARNING - Matched station Klein Ziethen by name/type only, line AZ not found in existing lines\n",
      "2025-04-06 14:54:23,229 - WARNING - Matched station Waßmannsdorf by name/type only, line AZ not found in existing lines\n",
      "2025-04-06 14:54:23,232 - WARNING - Matched station Schönefeld, Kirche by name/type only, line AZ not found in existing lines\n",
      "2025-04-06 14:54:23,237 - WARNING - Matched station Bhf. Schönefeld by name/type only, line AZ not found in existing lines\n",
      "2025-04-06 14:54:23,802 - INFO - Successfully matched 706 out of 743 stations\n"
     ]
    }
   ],
   "source": [
    "# Station Matching Process\n",
    "matcher = StationMatcher(existing_stations_df)\n",
    "\n",
    "# Process stops table with location matching\n",
    "matched_stops = matcher.add_location_data(results['stops'])"
   ]
  },
  {
   "cell_type": "code",
   "execution_count": 8,
   "metadata": {},
   "outputs": [
    {
     "name": "stdout",
     "output_type": "stream",
     "text": [
      "\n",
      "Matching Statistics:\n",
      "Total stations: 743\n",
      "Matched: 706 (95.0%)\n",
      "Unmatched: 37 (5.0%)\n",
      "\n",
      "Sample of matched stations:\n"
     ]
    },
    {
     "data": {
      "application/vnd.microsoft.datawrangler.viewer.v0+json": {
       "columns": [
        {
         "name": "index",
         "rawType": "int64",
         "type": "integer"
        },
        {
         "name": "stop_name",
         "rawType": "object",
         "type": "string"
        },
        {
         "name": "type",
         "rawType": "object",
         "type": "string"
        },
        {
         "name": "line_name",
         "rawType": "object",
         "type": "string"
        },
        {
         "name": "stop_id",
         "rawType": "object",
         "type": "string"
        },
        {
         "name": "location",
         "rawType": "object",
         "type": "string"
        },
        {
         "name": "identifier",
         "rawType": "object",
         "type": "string"
        }
       ],
       "conversionMethod": "pd.DataFrame",
       "ref": "80fce038-afb7-4826-8350-c13e71b29cc6",
       "rows": [
        [
         "0",
         "Pankow (Vinetastr.)",
         "u-bahn",
         "A",
         "19650_east",
         "52.559166666667,13.413333333333",
         "Q570906"
        ],
        [
         "1",
         "Schönhauser Allee",
         "u-bahn",
         "A",
         "19651_east",
         "52.549328888889,13.413706111111",
         "Q47014936"
        ],
        [
         "2",
         "Dimitroffstr.",
         "u-bahn",
         "A",
         "19652_east",
         "52.541666666667,13.412222222222",
         "Q571382"
        ]
       ],
       "shape": {
        "columns": 6,
        "rows": 3
       }
      },
      "text/html": [
       "<div>\n",
       "<style scoped>\n",
       "    .dataframe tbody tr th:only-of-type {\n",
       "        vertical-align: middle;\n",
       "    }\n",
       "\n",
       "    .dataframe tbody tr th {\n",
       "        vertical-align: top;\n",
       "    }\n",
       "\n",
       "    .dataframe thead th {\n",
       "        text-align: right;\n",
       "    }\n",
       "</style>\n",
       "<table border=\"1\" class=\"dataframe\">\n",
       "  <thead>\n",
       "    <tr style=\"text-align: right;\">\n",
       "      <th></th>\n",
       "      <th>stop_name</th>\n",
       "      <th>type</th>\n",
       "      <th>line_name</th>\n",
       "      <th>stop_id</th>\n",
       "      <th>location</th>\n",
       "      <th>identifier</th>\n",
       "    </tr>\n",
       "  </thead>\n",
       "  <tbody>\n",
       "    <tr>\n",
       "      <th>0</th>\n",
       "      <td>Pankow (Vinetastr.)</td>\n",
       "      <td>u-bahn</td>\n",
       "      <td>A</td>\n",
       "      <td>19650_east</td>\n",
       "      <td>52.559166666667,13.413333333333</td>\n",
       "      <td>Q570906</td>\n",
       "    </tr>\n",
       "    <tr>\n",
       "      <th>1</th>\n",
       "      <td>Schönhauser Allee</td>\n",
       "      <td>u-bahn</td>\n",
       "      <td>A</td>\n",
       "      <td>19651_east</td>\n",
       "      <td>52.549328888889,13.413706111111</td>\n",
       "      <td>Q47014936</td>\n",
       "    </tr>\n",
       "    <tr>\n",
       "      <th>2</th>\n",
       "      <td>Dimitroffstr.</td>\n",
       "      <td>u-bahn</td>\n",
       "      <td>A</td>\n",
       "      <td>19652_east</td>\n",
       "      <td>52.541666666667,13.412222222222</td>\n",
       "      <td>Q571382</td>\n",
       "    </tr>\n",
       "  </tbody>\n",
       "</table>\n",
       "</div>"
      ],
      "text/plain": [
       "             stop_name    type line_name     stop_id  \\\n",
       "0  Pankow (Vinetastr.)  u-bahn         A  19650_east   \n",
       "1    Schönhauser Allee  u-bahn         A  19651_east   \n",
       "2        Dimitroffstr.  u-bahn         A  19652_east   \n",
       "\n",
       "                          location identifier  \n",
       "0  52.559166666667,13.413333333333    Q570906  \n",
       "1  52.549328888889,13.413706111111  Q47014936  \n",
       "2  52.541666666667,13.412222222222    Q571382  "
      ]
     },
     "metadata": {},
     "output_type": "display_data"
    },
    {
     "name": "stdout",
     "output_type": "stream",
     "text": [
      "\n",
      "Sample of unmatched stations:\n"
     ]
    },
    {
     "data": {
      "application/vnd.microsoft.datawrangler.viewer.v0+json": {
       "columns": [
        {
         "name": "index",
         "rawType": "int64",
         "type": "integer"
        },
        {
         "name": "stop_name",
         "rawType": "object",
         "type": "string"
        },
        {
         "name": "type",
         "rawType": "object",
         "type": "string"
        },
        {
         "name": "line_name",
         "rawType": "object",
         "type": "string"
        },
        {
         "name": "stop_id",
         "rawType": "object",
         "type": "string"
        },
        {
         "name": "location",
         "rawType": "object",
         "type": "unknown"
        },
        {
         "name": "identifier",
         "rawType": "object",
         "type": "unknown"
        }
       ],
       "conversionMethod": "pd.DataFrame",
       "ref": "8f6e86f3-5d06-406b-bdc9-7e07f74a343f",
       "rows": [
        [
         "10",
         "Stadtmitte (Mohrenstr.)",
         "u-bahn",
         "A",
         "196510_east",
         null,
         null
        ],
        [
         "18",
         "Frankfurter Allee (Ringbahn)",
         "u-bahn",
         "E",
         "196518_east",
         null,
         null
        ],
        [
         "22",
         "Adalbertstrasse Ecke Köpenickerstrasse",
         "tram",
         "1",
         "196522_east",
         null,
         null
        ]
       ],
       "shape": {
        "columns": 6,
        "rows": 3
       }
      },
      "text/html": [
       "<div>\n",
       "<style scoped>\n",
       "    .dataframe tbody tr th:only-of-type {\n",
       "        vertical-align: middle;\n",
       "    }\n",
       "\n",
       "    .dataframe tbody tr th {\n",
       "        vertical-align: top;\n",
       "    }\n",
       "\n",
       "    .dataframe thead th {\n",
       "        text-align: right;\n",
       "    }\n",
       "</style>\n",
       "<table border=\"1\" class=\"dataframe\">\n",
       "  <thead>\n",
       "    <tr style=\"text-align: right;\">\n",
       "      <th></th>\n",
       "      <th>stop_name</th>\n",
       "      <th>type</th>\n",
       "      <th>line_name</th>\n",
       "      <th>stop_id</th>\n",
       "      <th>location</th>\n",
       "      <th>identifier</th>\n",
       "    </tr>\n",
       "  </thead>\n",
       "  <tbody>\n",
       "    <tr>\n",
       "      <th>10</th>\n",
       "      <td>Stadtmitte (Mohrenstr.)</td>\n",
       "      <td>u-bahn</td>\n",
       "      <td>A</td>\n",
       "      <td>196510_east</td>\n",
       "      <td>None</td>\n",
       "      <td>None</td>\n",
       "    </tr>\n",
       "    <tr>\n",
       "      <th>18</th>\n",
       "      <td>Frankfurter Allee (Ringbahn)</td>\n",
       "      <td>u-bahn</td>\n",
       "      <td>E</td>\n",
       "      <td>196518_east</td>\n",
       "      <td>None</td>\n",
       "      <td>None</td>\n",
       "    </tr>\n",
       "    <tr>\n",
       "      <th>22</th>\n",
       "      <td>Adalbertstrasse Ecke Köpenickerstrasse</td>\n",
       "      <td>tram</td>\n",
       "      <td>1</td>\n",
       "      <td>196522_east</td>\n",
       "      <td>None</td>\n",
       "      <td>None</td>\n",
       "    </tr>\n",
       "  </tbody>\n",
       "</table>\n",
       "</div>"
      ],
      "text/plain": [
       "                                 stop_name    type line_name      stop_id  \\\n",
       "10                 Stadtmitte (Mohrenstr.)  u-bahn         A  196510_east   \n",
       "18            Frankfurter Allee (Ringbahn)  u-bahn         E  196518_east   \n",
       "22  Adalbertstrasse Ecke Köpenickerstrasse    tram         1  196522_east   \n",
       "\n",
       "   location identifier  \n",
       "10     None       None  \n",
       "18     None       None  \n",
       "22     None       None  "
      ]
     },
     "metadata": {},
     "output_type": "display_data"
    }
   ],
   "source": [
    "# Analysis of matching results\n",
    "total_stops = len(matched_stops)\n",
    "matched = matched_stops['location'].notna().sum()\n",
    "unmatched = total_stops - matched\n",
    "\n",
    "print(\"\\nMatching Statistics:\")\n",
    "print(f\"Total stations: {total_stops}\")\n",
    "print(f\"Matched: {matched} ({matched/total_stops*100:.1f}%)\")\n",
    "print(f\"Unmatched: {unmatched} ({unmatched/total_stops*100:.1f}%)\")\n",
    "\n",
    "# Display sample of matched stations\n",
    "print(\"\\nSample of matched stations:\")\n",
    "display(matched_stops[matched_stops['location'].notna()].head(3))\n",
    "\n",
    "print(\"\\nSample of unmatched stations:\")\n",
    "display(matched_stops[matched_stops['location'].isna()].head(3))"
   ]
  },
  {
   "cell_type": "markdown",
   "metadata": {},
   "source": [
    "## Validation and Export\n",
    "\n",
    "As a final step, we validate the matched stations and export the results:\n",
    "\n",
    "1. The complete dataset is saved for the next processing stage\n",
    "2. Unmatched stations are exported separately for manual geolocation\n",
    "3. Matching statistics are logged for quality assurance\n",
    "\n",
    "The manual geolocation process will be performed using OpenRefine, which provides tools for interactive data cleaning and enrichment."
   ]
  },
  {
   "cell_type": "code",
   "execution_count": 9,
   "metadata": {},
   "outputs": [
    {
     "name": "stdout",
     "output_type": "stream",
     "text": [
      "\n",
      "Matching Statistics:\n",
      "Total stations: 743\n",
      "Matched: 706 (95.0%)\n",
      "Unmatched: 37 (5.0%)\n",
      "\n",
      "Sample of unmatched stations:\n",
      "10                   Stadtmitte (Mohrenstr.)\n",
      "18              Frankfurter Allee (Ringbahn)\n",
      "22    Adalbertstrasse Ecke Köpenickerstrasse\n",
      "28      Invalidenstrasse Ecke Brunnenstrasse\n",
      "29     Chausseestrasse Ecke Invalidenstrasse\n",
      "Name: stop_name, dtype: object\n",
      "\n",
      "Saved 743 total stops\n",
      "Exported 37 unmatched stops for manual processing\n"
     ]
    }
   ],
   "source": [
    "# Validate matches\n",
    "from utils.geolocation import validate_matches\n",
    "validate_matches(matched_stops)\n",
    "\n",
    "# Save results\n",
    "matched_dir = Path('../data/interim/stops_matched_initial')\n",
    "matched_dir.mkdir(parents=True, exist_ok=True)\n",
    "\n",
    "# Save all stops (both matched and unmatched)\n",
    "matched_path = matched_dir / f'stops_{YEAR}_{SIDE}.csv'\n",
    "matched_stops.to_csv(matched_path, index=False)\n",
    "\n",
    "# Save unmatched stops separately for OpenRefine\n",
    "unmatched_stops = matched_stops[matched_stops['location'].isna()]\n",
    "openrefine_dir = Path('../data/interim/stops_for_openrefine')\n",
    "openrefine_dir.mkdir(parents=True, exist_ok=True)\n",
    "openrefine_path = openrefine_dir / f'unmatched_stops_{YEAR}_{SIDE}.csv'\n",
    "unmatched_stops.to_csv(openrefine_path, index=False)\n",
    "\n",
    "print(f\"\\nSaved {len(matched_stops)} total stops\")\n",
    "print(f\"Exported {len(unmatched_stops)} unmatched stops for manual processing\")"
   ]
  },
  {
   "cell_type": "markdown",
   "metadata": {},
   "source": [
    "## Next Steps\n",
    "\n",
    "After this initial processing, the workflow continues with:\n",
    "\n",
    "1. **Manual Geolocation**: Using OpenRefine to add coordinates to unmatched stations\n",
    "2. **Geolocation Verification**: Validating coordinates and splitting composite stations\n",
    "3. **Data Enrichment**: Adding administrative and contextual information\n",
    "4. **Network Construction**: Building a graph representation of the transportation system\n",
    "5. **Analysis**: Investigating network properties and evolution over time\n",
    "\n",
    "The next notebook in the sequence is `01_geolocation_verification_splitting.ipynb`."
   ]
  }
 ],
 "metadata": {
  "kernelspec": {
   "display_name": ".venv",
   "language": "python",
   "name": "python3"
  },
  "language_info": {
   "codemirror_mode": {
    "name": "ipython",
    "version": 3
   },
   "file_extension": ".py",
   "mimetype": "text/x-python",
   "name": "python",
   "nbconvert_exporter": "python",
   "pygments_lexer": "ipython3",
   "version": "3.12.6"
  }
 },
 "nbformat": 4,
 "nbformat_minor": 2
}
