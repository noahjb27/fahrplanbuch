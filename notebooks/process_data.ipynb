{
 "cells": [
  {
   "cell_type": "code",
   "execution_count": null,
   "metadata": {},
   "outputs": [],
   "source": [
    "# Berlin Transport Data Processing\n",
    "## Setup and Imports\n",
    "\n",
    "import sys\n",
    "from pathlib import Path\n",
    "import pandas as pd\n",
    "import logging\n",
    "\n",
    "# Add src directory to Python path\n",
    "src_path = str(Path.cwd().parent / 'src')\n",
    "if src_path not in sys.path:\n",
    "    sys.path.append(src_path)\n",
    "\n",
    "# Import processing modules\n",
    "from data_loader import DataLoader, format_line_list\n",
    "from processor import TransportDataProcessor\n",
    "from geolocation import StationMatcher\n",
    "\n",
    "# Configure logging\n",
    "logging.basicConfig(\n",
    "    level=logging.INFO,\n",
    "    format='%(asctime)s - %(levelname)s - %(message)s'\n",
    ")\n",
    "logger = logging.getLogger(__name__)\n"
   ]
  },
  {
   "cell_type": "code",
   "execution_count": null,
   "metadata": {},
   "outputs": [],
   "source": [
    "# Configuration\n",
    "YEAR = 1965\n",
    "SIDE = \"west\"  # or \"east\"\n",
    "DATA_DIR = Path('../data')\n",
    "\n",
    "# Initialize loader\n",
    "loader = DataLoader()\n",
    "\n",
    "## Load Input Data\n",
    "\n",
    "# Load raw transcribed data\n",
    "raw_data_path = DATA_DIR / 'raw' / f'{YEAR}_{SIDE}.csv'\n",
    "raw_df = loader.load_raw_data(str(raw_data_path))\n",
    "\n",
    "\n",
    "logger.info(f\"Loaded raw data: {len(raw_df)} lines\")"
   ]
  },
  {
   "cell_type": "code",
   "execution_count": null,
   "metadata": {},
   "outputs": [],
   "source": [
    "# Display sample of loaded data to verify\n",
    "print(\"\\nSample of loaded data:\")\n",
    "print(raw_df[['line_name', 'type', 'stops']].head())"
   ]
  },
  {
   "cell_type": "code",
   "execution_count": null,
   "metadata": {},
   "outputs": [],
   "source": [
    "# Load existing stations data\n",
    "# Load existing stations\n",
    "existing_stations_path = DATA_DIR / 'processed' / 'existing_stations.csv'\n",
    "existing_stations_df = pd.read_csv(existing_stations_path)\n",
    "\n",
    "# Format line lists in existing stations\n",
    "existing_stations_df['in_lines'] = existing_stations_df['in_lines'].apply(format_line_list)\n",
    "\n",
    "logger.info(f\"Loaded existing stations: {len(existing_stations_df)} stations\")"
   ]
  },
  {
   "cell_type": "code",
   "execution_count": null,
   "metadata": {},
   "outputs": [],
   "source": [
    "# Process cleaned raw data\n",
    "\n",
    "# Initialize processor with cleaned data\n",
    "processor = TransportDataProcessor(YEAR, SIDE)\n",
    "\n",
    "try:\n",
    "    # Pass the DataFrame directly\n",
    "    results = processor.process_raw_data(raw_df, existing_stations_df)\n",
    "    logger.info(\"Initial processing complete\")\n",
    "    \n",
    "    # Display processing results\n",
    "    for name, df in results.items():\n",
    "        print(f\"\\n{name} table shape: {df.shape}\")\n",
    "        print(f\"Sample of {name}:\")\n",
    "        display(df.head(2))  # Using display for better notebook output\n",
    "        \n",
    "except Exception as e:\n",
    "    logger.error(f\"Error in initial processing: {e}\")\n",
    "    raise"
   ]
  },
  {
   "cell_type": "code",
   "execution_count": null,
   "metadata": {},
   "outputs": [],
   "source": [
    "# Save results\n",
    "for name, df in results.items():\n",
    "    output_path = DATA_DIR / 'interim' / 'stops_base' / f'{name}_{YEAR}_{SIDE}.csv'\n",
    "    output_path.parent.mkdir(parents=True, exist_ok=True)\n",
    "    df.to_csv(output_path, index=False)\n",
    "    logger.info(f\"Saved {name} table to {output_path}\")"
   ]
  },
  {
   "cell_type": "code",
   "execution_count": null,
   "metadata": {},
   "outputs": [],
   "source": [
    "# Station Matching Process\n",
    "\n",
    "# Load the basic tables if not already in memory\n",
    "if 'results' not in locals():\n",
    "    base_dir = Path('../data/interim/stops_base')\n",
    "    results = {\n",
    "        'stops': pd.read_csv(base_dir / f'stops_{YEAR}_{SIDE}.csv'),\n",
    "        'lines': pd.read_csv(base_dir / f'lines_{YEAR}_{SIDE}.csv'),\n",
    "        'line_stops': pd.read_csv(base_dir / f'line_stops_{YEAR}_{SIDE}.csv')\n",
    "    }\n",
    "\n",
    "# Run matching process\n",
    "matcher = StationMatcher(existing_stations_df)\n",
    "\n",
    "# Process stops table with location matching\n",
    "matched_stops = matcher.add_location_data(results['stops'])"
   ]
  },
  {
   "cell_type": "code",
   "execution_count": null,
   "metadata": {},
   "outputs": [],
   "source": [
    "# Analysis of matching results\n",
    "total_stops = len(matched_stops)\n",
    "matched = matched_stops['location'].notna().sum()\n",
    "unmatched = total_stops - matched\n",
    "\n",
    "print(\"\\nMatchinga Statistics:\")\n",
    "print(f\"Total stations: {total_stops}\")\n",
    "print(f\"Matched: {matched} ({matched/total_stops*100:.1f}%)\")\n",
    "print(f\"Unmatched: {unmatched} ({unmatched/total_stops*100:.1f}%)\")\n",
    "\n",
    "# Display sample of matched stations\n",
    "print(\"\\nSample of matched stations:\")\n",
    "display(matched_stops[matched_stops['location'].notna()].head(3))\n",
    "\n",
    "print(\"\\nSample of unmatched stations:\")\n",
    "display(matched_stops[matched_stops['location'].isna()].head(3))"
   ]
  },
  {
   "cell_type": "code",
   "execution_count": null,
   "metadata": {},
   "outputs": [],
   "source": [
    "# Validate matches\n",
    "from geolocation import validate_matches\n",
    "\n",
    "validate_matches(matched_stops)\n",
    "\n",
    "# Save results\n",
    "matched_dir = Path('../data/interim/stops_matched')\n",
    "matched_dir.mkdir(parents=True, exist_ok=True)\n",
    "\n",
    "# Save all stops (both matched and unmatched)\n",
    "matched_path = matched_dir / f'stops_{YEAR}_{SIDE}.csv'\n",
    "matched_stops.to_csv(matched_path, index=False)\n",
    "\n",
    "# Save unmatched stops separately for OpenRefine\n",
    "unmatched_stops = matched_stops[matched_stops['location'].isna()]\n",
    "openrefine_dir = Path('../data/interim/stops_for_openrefine')\n",
    "openrefine_dir.mkdir(parents=True, exist_ok=True)\n",
    "openrefine_path = openrefine_dir / f'unmatched_stops_{YEAR}_{SIDE}.csv'\n",
    "unmatched_stops.to_csv(openrefine_path, index=False)\n",
    "\n",
    "print(f\"\\nSaved {len(matched_stops)} total stops\")\n",
    "print(f\"Exported {len(unmatched_stops)} unmatched stops for manual processing\")"
   ]
  }
 ],
 "metadata": {
  "kernelspec": {
   "display_name": ".venv",
   "language": "python",
   "name": "python3"
  },
  "language_info": {
   "codemirror_mode": {
    "name": "ipython",
    "version": 3
   },
   "file_extension": ".py",
   "mimetype": "text/x-python",
   "name": "python",
   "nbconvert_exporter": "python",
   "pygments_lexer": "ipython3",
   "version": "3.12.6"
  }
 },
 "nbformat": 4,
 "nbformat_minor": 2
}
