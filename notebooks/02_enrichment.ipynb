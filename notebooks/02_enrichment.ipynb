{
 "cells": [
  {
   "cell_type": "markdown",
   "metadata": {},
   "source": [
    "# Berlin Transport Network - Data Enrichment\n",
    "\n",
    "This notebook processes and enriches Berlin public transportation data for a specific year and side (East/West). It performs the following steps:\n",
    "\n",
    "1. **Configuration**: Set up year and side to process\n",
    "2. **Data Loading**: Load base data and intermediate files\n",
    "3. **Line Enrichment**: Add profile and capacity information to lines\n",
    "4. **Administrative Data**: Add district/neighborhood information to stops\n",
    "5. **Postal Code Data**: Add postal code information to stops\n",
    "6. **Line-Stop Relationships**: Process relationships between lines and stops\n",
    "7. **Data Finalization**: Finalize and save processed data\n",
    "8. **Reference Data**: Update the reference stations dataset\n",
    "\n",
    "Most of the implementation logic is in the `src.enrichment` module."
   ]
  },
  {
   "cell_type": "code",
   "execution_count": 11,
   "metadata": {},
   "outputs": [],
   "source": [
    "import sys\n",
    "import pandas as pd\n",
    "import logging\n",
    "from pathlib import Path\n",
    "\n",
    "# Set up logging\n",
    "logging.basicConfig(\n",
    "    level=logging.INFO,\n",
    "    format='%(asctime)s - %(levelname)s - %(message)s'\n",
    ")\n",
    "logger = logging.getLogger(__name__)\n",
    "\n",
    "# Import modules\n",
    "sys.path.append('..')\n",
    "from src import enricher"
   ]
  },
  {
   "cell_type": "markdown",
   "metadata": {},
   "source": [
    "## 1. Configuration\n",
    "\n",
    "Set up the year and side (east/west) to process, and define paths to data files."
   ]
  },
  {
   "cell_type": "code",
   "execution_count": 12,
   "metadata": {},
   "outputs": [],
   "source": [
    "# Configuration\n",
    "YEAR = 1965\n",
    "SIDE = \"east\"\n",
    "\n",
    "# Set up paths\n",
    "BASE_DIR = Path('../data')\n",
    "paths = {\n",
    "    'base_dir': BASE_DIR,\n",
    "    'raw_dir': BASE_DIR / 'raw',\n",
    "    'interim_dir': BASE_DIR / 'interim',\n",
    "    'processed_dir': BASE_DIR / 'processed',\n",
    "    'geo_data_dir': BASE_DIR / 'data-external',\n",
    "    'existing_stations': BASE_DIR / 'processed' / 'existing_stations.csv'\n",
    "}"
   ]
  },
  {
   "cell_type": "markdown",
   "metadata": {},
   "source": [
    "## 2. Data Loading\n",
    "\n",
    "Load the raw and intermediate data files required for processing."
   ]
  },
  {
   "cell_type": "code",
   "execution_count": 13,
   "metadata": {},
   "outputs": [
    {
     "name": "stderr",
     "output_type": "stream",
     "text": [
      "2025-04-06 14:55:23,074 - INFO - Loaded base data: 74 lines\n",
      "2025-04-06 14:55:23,100 - INFO - Loaded verified stops: 780 stops\n",
      "2025-04-06 14:55:23,114 - INFO - Loaded existing stations: 2138 stations\n"
     ]
    }
   ],
   "source": [
    "# Load data\n",
    "try:\n",
    "    line_df_initial, final_stops, existing_stations_df = enricher.load_data(paths, YEAR, SIDE)\n",
    "except Exception as e:\n",
    "    logger.error(f\"Error loading data: {e}\")\n",
    "    raise"
   ]
  },
  {
   "cell_type": "markdown",
   "metadata": {},
   "source": [
    "## 3. Line Enrichment\n",
    "\n",
    "Enrich line data with profile and capacity information based on transport type."
   ]
  },
  {
   "cell_type": "code",
   "execution_count": 14,
   "metadata": {},
   "outputs": [
    {
     "name": "stderr",
     "output_type": "stream",
     "text": [
      "2025-04-06 14:55:23,142 - INFO - Enriched lines with profile and capacity information\n"
     ]
    },
    {
     "data": {
      "application/vnd.microsoft.datawrangler.viewer.v0+json": {
       "columns": [
        {
         "name": "index",
         "rawType": "int64",
         "type": "integer"
        },
        {
         "name": "line_id",
         "rawType": "object",
         "type": "string"
        },
        {
         "name": "year",
         "rawType": "int64",
         "type": "integer"
        },
        {
         "name": "line_name",
         "rawType": "object",
         "type": "string"
        },
        {
         "name": "type",
         "rawType": "object",
         "type": "string"
        },
        {
         "name": "start_stop",
         "rawType": "object",
         "type": "string"
        },
        {
         "name": "length (time)",
         "rawType": "float64",
         "type": "float"
        },
        {
         "name": "length (km)",
         "rawType": "float64",
         "type": "float"
        },
        {
         "name": "east_west",
         "rawType": "object",
         "type": "string"
        },
        {
         "name": "frequency (7:30)",
         "rawType": "float64",
         "type": "float"
        },
        {
         "name": "profile",
         "rawType": "object",
         "type": "unknown"
        },
        {
         "name": "capacity",
         "rawType": "int64",
         "type": "integer"
        }
       ],
       "conversionMethod": "pd.DataFrame",
       "ref": "1311a7ca-f1bc-40a3-9b42-4af0fbb3b44b",
       "rows": [
        [
         "0",
         "19651_east",
         "1965",
         "A",
         "u-bahn",
         "Pankow (Vinetastr.)<> Thälmannplatz",
         "19.0",
         "7.5",
         "east",
         "5.0",
         "Kleinprofil",
         "750"
        ],
        [
         "1",
         "19652_east",
         "1965",
         "E",
         "u-bahn",
         "Alexanderplatz<> Friedrichsfelde (Tierpark)",
         "16.0",
         "7.1",
         "east",
         "5.0",
         "Großprofil",
         "1000"
        ],
        [
         "2",
         "19653_east",
         "1965",
         "1",
         "tram",
         "Adalbertstrasse Ecke Köpenickerstrasse<> Walter-Ulbricht-Stadion",
         "27.0",
         "7.3",
         "east",
         "20.0",
         null,
         "195"
        ],
        [
         "3",
         "19654_east",
         "1965",
         "A 1 P",
         "autobus",
         "Köpenickerstrasse Ecke Adalbertstrasse<> Alexanderplatz, Grunerstrasse",
         "6.0",
         "2.0",
         "east",
         "10.0",
         null,
         "0"
        ],
        [
         "4",
         "19655_east",
         "1965",
         "3",
         "tram",
         "Revalerstrasse (S-Bhf. Warschauer Strasse)<> Björnsonstrasse",
         "43.0",
         "11.4",
         "east",
         "12.0",
         null,
         "195"
        ]
       ],
       "shape": {
        "columns": 11,
        "rows": 5
       }
      },
      "text/html": [
       "<div>\n",
       "<style scoped>\n",
       "    .dataframe tbody tr th:only-of-type {\n",
       "        vertical-align: middle;\n",
       "    }\n",
       "\n",
       "    .dataframe tbody tr th {\n",
       "        vertical-align: top;\n",
       "    }\n",
       "\n",
       "    .dataframe thead th {\n",
       "        text-align: right;\n",
       "    }\n",
       "</style>\n",
       "<table border=\"1\" class=\"dataframe\">\n",
       "  <thead>\n",
       "    <tr style=\"text-align: right;\">\n",
       "      <th></th>\n",
       "      <th>line_id</th>\n",
       "      <th>year</th>\n",
       "      <th>line_name</th>\n",
       "      <th>type</th>\n",
       "      <th>start_stop</th>\n",
       "      <th>length (time)</th>\n",
       "      <th>length (km)</th>\n",
       "      <th>east_west</th>\n",
       "      <th>frequency (7:30)</th>\n",
       "      <th>profile</th>\n",
       "      <th>capacity</th>\n",
       "    </tr>\n",
       "  </thead>\n",
       "  <tbody>\n",
       "    <tr>\n",
       "      <th>0</th>\n",
       "      <td>19651_east</td>\n",
       "      <td>1965</td>\n",
       "      <td>A</td>\n",
       "      <td>u-bahn</td>\n",
       "      <td>Pankow (Vinetastr.)&lt;&gt; Thälmannplatz</td>\n",
       "      <td>19.0</td>\n",
       "      <td>7.5</td>\n",
       "      <td>east</td>\n",
       "      <td>5.0</td>\n",
       "      <td>Kleinprofil</td>\n",
       "      <td>750</td>\n",
       "    </tr>\n",
       "    <tr>\n",
       "      <th>1</th>\n",
       "      <td>19652_east</td>\n",
       "      <td>1965</td>\n",
       "      <td>E</td>\n",
       "      <td>u-bahn</td>\n",
       "      <td>Alexanderplatz&lt;&gt; Friedrichsfelde (Tierpark)</td>\n",
       "      <td>16.0</td>\n",
       "      <td>7.1</td>\n",
       "      <td>east</td>\n",
       "      <td>5.0</td>\n",
       "      <td>Großprofil</td>\n",
       "      <td>1000</td>\n",
       "    </tr>\n",
       "    <tr>\n",
       "      <th>2</th>\n",
       "      <td>19653_east</td>\n",
       "      <td>1965</td>\n",
       "      <td>1</td>\n",
       "      <td>tram</td>\n",
       "      <td>Adalbertstrasse Ecke Köpenickerstrasse&lt;&gt; Walte...</td>\n",
       "      <td>27.0</td>\n",
       "      <td>7.3</td>\n",
       "      <td>east</td>\n",
       "      <td>20.0</td>\n",
       "      <td>None</td>\n",
       "      <td>195</td>\n",
       "    </tr>\n",
       "    <tr>\n",
       "      <th>3</th>\n",
       "      <td>19654_east</td>\n",
       "      <td>1965</td>\n",
       "      <td>A 1 P</td>\n",
       "      <td>autobus</td>\n",
       "      <td>Köpenickerstrasse Ecke Adalbertstrasse&lt;&gt; Alexa...</td>\n",
       "      <td>6.0</td>\n",
       "      <td>2.0</td>\n",
       "      <td>east</td>\n",
       "      <td>10.0</td>\n",
       "      <td>None</td>\n",
       "      <td>0</td>\n",
       "    </tr>\n",
       "    <tr>\n",
       "      <th>4</th>\n",
       "      <td>19655_east</td>\n",
       "      <td>1965</td>\n",
       "      <td>3</td>\n",
       "      <td>tram</td>\n",
       "      <td>Revalerstrasse (S-Bhf. Warschauer Strasse)&lt;&gt; B...</td>\n",
       "      <td>43.0</td>\n",
       "      <td>11.4</td>\n",
       "      <td>east</td>\n",
       "      <td>12.0</td>\n",
       "      <td>None</td>\n",
       "      <td>195</td>\n",
       "    </tr>\n",
       "  </tbody>\n",
       "</table>\n",
       "</div>"
      ],
      "text/plain": [
       "      line_id  year line_name     type  \\\n",
       "0  19651_east  1965         A   u-bahn   \n",
       "1  19652_east  1965         E   u-bahn   \n",
       "2  19653_east  1965         1     tram   \n",
       "3  19654_east  1965     A 1 P  autobus   \n",
       "4  19655_east  1965         3     tram   \n",
       "\n",
       "                                          start_stop  length (time)  \\\n",
       "0                Pankow (Vinetastr.)<> Thälmannplatz           19.0   \n",
       "1        Alexanderplatz<> Friedrichsfelde (Tierpark)           16.0   \n",
       "2  Adalbertstrasse Ecke Köpenickerstrasse<> Walte...           27.0   \n",
       "3  Köpenickerstrasse Ecke Adalbertstrasse<> Alexa...            6.0   \n",
       "4  Revalerstrasse (S-Bhf. Warschauer Strasse)<> B...           43.0   \n",
       "\n",
       "   length (km) east_west  frequency (7:30)      profile  capacity  \n",
       "0          7.5      east               5.0  Kleinprofil       750  \n",
       "1          7.1      east               5.0   Großprofil      1000  \n",
       "2          7.3      east              20.0         None       195  \n",
       "3          2.0      east              10.0         None         0  \n",
       "4         11.4      east              12.0         None       195  "
      ]
     },
     "execution_count": 14,
     "metadata": {},
     "output_type": "execute_result"
    }
   ],
   "source": [
    "# Enrich lines with profile and capacity information\n",
    "line_df = enricher.enrich_lines(line_df_initial, SIDE)\n",
    "\n",
    "# Display a sample of the enriched lines\n",
    "line_df.head()"
   ]
  },
  {
   "cell_type": "markdown",
   "metadata": {},
   "source": [
    "## 4. Administrative Data\n",
    "\n",
    "Add district and neighborhood information to stops based on their geographic location."
   ]
  },
  {
   "cell_type": "code",
   "execution_count": 15,
   "metadata": {},
   "outputs": [
    {
     "name": "stderr",
     "output_type": "stream",
     "text": [
      "2025-04-06 14:55:23,841 - INFO - Loaded district data: 96 districts\n",
      "2025-04-06 14:55:23,844 - INFO - Loaded 53 West Berlin districts\n",
      "2025-04-06 14:55:23,857 - INFO - Created GeoDataFrame with 745 valid geometries from 780 total stops\n",
      "2025-04-06 14:55:23,874 - INFO - Added administrative data to 745 stops\n",
      "2025-04-06 14:55:23,875 - INFO - Enriched stops created, not saved\n"
     ]
    },
    {
     "data": {
      "application/vnd.microsoft.datawrangler.viewer.v0+json": {
       "columns": [
        {
         "name": "index",
         "rawType": "int64",
         "type": "integer"
        },
        {
         "name": "stop_name",
         "rawType": "object",
         "type": "string"
        },
        {
         "name": "type",
         "rawType": "object",
         "type": "string"
        },
        {
         "name": "line_name",
         "rawType": "object",
         "type": "string"
        },
        {
         "name": "stop_id",
         "rawType": "object",
         "type": "string"
        },
        {
         "name": "location",
         "rawType": "object",
         "type": "string"
        },
        {
         "name": "identifier",
         "rawType": "object",
         "type": "string"
        },
        {
         "name": "neighbourhood",
         "rawType": "object",
         "type": "string"
        },
        {
         "name": "district",
         "rawType": "object",
         "type": "string"
        },
        {
         "name": "east_west",
         "rawType": "object",
         "type": "string"
        }
       ],
       "conversionMethod": "pd.DataFrame",
       "ref": "da558145-e9eb-45ed-a101-7642d477738a",
       "rows": [
        [
         "0",
         "Pankow (Vinetastr.)",
         "u-bahn",
         "A",
         "19650_east",
         "52.55916667,13.41333333",
         "Q570906",
         "Pankow",
         "Pankow",
         "east"
        ],
        [
         "1",
         "Schönhauser Allee",
         "u-bahn",
         "A",
         "19651_east",
         "52.54932889,13.41370611",
         "Q47014936",
         "Prenzlauer Berg",
         "Pankow",
         "east"
        ],
        [
         "2",
         "Dimitroffstr.",
         "u-bahn",
         "A",
         "19652_east",
         "52.54166667,13.41222222",
         "Q571382",
         "Prenzlauer Berg",
         "Pankow",
         "east"
        ],
        [
         "3",
         "Senefelderplatz",
         "u-bahn",
         "A",
         "19653_east",
         "52.53242000,13.41274300",
         "Q32661454",
         "Prenzlauer Berg",
         "Pankow",
         "east"
        ],
        [
         "4",
         "Luxemburgplatz",
         "u-bahn",
         "A",
         "19654_east",
         "52.52833333,13.41027778",
         "Q658790",
         "Mitte",
         "Mitte",
         "east"
        ]
       ],
       "shape": {
        "columns": 9,
        "rows": 5
       }
      },
      "text/html": [
       "<div>\n",
       "<style scoped>\n",
       "    .dataframe tbody tr th:only-of-type {\n",
       "        vertical-align: middle;\n",
       "    }\n",
       "\n",
       "    .dataframe tbody tr th {\n",
       "        vertical-align: top;\n",
       "    }\n",
       "\n",
       "    .dataframe thead th {\n",
       "        text-align: right;\n",
       "    }\n",
       "</style>\n",
       "<table border=\"1\" class=\"dataframe\">\n",
       "  <thead>\n",
       "    <tr style=\"text-align: right;\">\n",
       "      <th></th>\n",
       "      <th>stop_name</th>\n",
       "      <th>type</th>\n",
       "      <th>line_name</th>\n",
       "      <th>stop_id</th>\n",
       "      <th>location</th>\n",
       "      <th>identifier</th>\n",
       "      <th>neighbourhood</th>\n",
       "      <th>district</th>\n",
       "      <th>east_west</th>\n",
       "    </tr>\n",
       "  </thead>\n",
       "  <tbody>\n",
       "    <tr>\n",
       "      <th>0</th>\n",
       "      <td>Pankow (Vinetastr.)</td>\n",
       "      <td>u-bahn</td>\n",
       "      <td>A</td>\n",
       "      <td>19650_east</td>\n",
       "      <td>52.55916667,13.41333333</td>\n",
       "      <td>Q570906</td>\n",
       "      <td>Pankow</td>\n",
       "      <td>Pankow</td>\n",
       "      <td>east</td>\n",
       "    </tr>\n",
       "    <tr>\n",
       "      <th>1</th>\n",
       "      <td>Schönhauser Allee</td>\n",
       "      <td>u-bahn</td>\n",
       "      <td>A</td>\n",
       "      <td>19651_east</td>\n",
       "      <td>52.54932889,13.41370611</td>\n",
       "      <td>Q47014936</td>\n",
       "      <td>Prenzlauer Berg</td>\n",
       "      <td>Pankow</td>\n",
       "      <td>east</td>\n",
       "    </tr>\n",
       "    <tr>\n",
       "      <th>2</th>\n",
       "      <td>Dimitroffstr.</td>\n",
       "      <td>u-bahn</td>\n",
       "      <td>A</td>\n",
       "      <td>19652_east</td>\n",
       "      <td>52.54166667,13.41222222</td>\n",
       "      <td>Q571382</td>\n",
       "      <td>Prenzlauer Berg</td>\n",
       "      <td>Pankow</td>\n",
       "      <td>east</td>\n",
       "    </tr>\n",
       "    <tr>\n",
       "      <th>3</th>\n",
       "      <td>Senefelderplatz</td>\n",
       "      <td>u-bahn</td>\n",
       "      <td>A</td>\n",
       "      <td>19653_east</td>\n",
       "      <td>52.53242000,13.41274300</td>\n",
       "      <td>Q32661454</td>\n",
       "      <td>Prenzlauer Berg</td>\n",
       "      <td>Pankow</td>\n",
       "      <td>east</td>\n",
       "    </tr>\n",
       "    <tr>\n",
       "      <th>4</th>\n",
       "      <td>Luxemburgplatz</td>\n",
       "      <td>u-bahn</td>\n",
       "      <td>A</td>\n",
       "      <td>19654_east</td>\n",
       "      <td>52.52833333,13.41027778</td>\n",
       "      <td>Q658790</td>\n",
       "      <td>Mitte</td>\n",
       "      <td>Mitte</td>\n",
       "      <td>east</td>\n",
       "    </tr>\n",
       "  </tbody>\n",
       "</table>\n",
       "</div>"
      ],
      "text/plain": [
       "             stop_name    type line_name     stop_id                 location  \\\n",
       "0  Pankow (Vinetastr.)  u-bahn         A  19650_east  52.55916667,13.41333333   \n",
       "1    Schönhauser Allee  u-bahn         A  19651_east  52.54932889,13.41370611   \n",
       "2        Dimitroffstr.  u-bahn         A  19652_east  52.54166667,13.41222222   \n",
       "3      Senefelderplatz  u-bahn         A  19653_east  52.53242000,13.41274300   \n",
       "4       Luxemburgplatz  u-bahn         A  19654_east  52.52833333,13.41027778   \n",
       "\n",
       "  identifier    neighbourhood district east_west  \n",
       "0    Q570906           Pankow   Pankow      east  \n",
       "1  Q47014936  Prenzlauer Berg   Pankow      east  \n",
       "2    Q571382  Prenzlauer Berg   Pankow      east  \n",
       "3  Q32661454  Prenzlauer Berg   Pankow      east  \n",
       "4    Q658790            Mitte    Mitte      east  "
      ]
     },
     "execution_count": 15,
     "metadata": {},
     "output_type": "execute_result"
    }
   ],
   "source": [
    "# Load district data\n",
    "districts_gdf, west_berlin_districts = enricher.load_district_data(paths['geo_data_dir'])\n",
    "\n",
    "# Add administrative data\n",
    "if districts_gdf is not None and west_berlin_districts is not None:\n",
    "    enriched_stops_df = enricher.add_administrative_data(SIDE, final_stops, districts_gdf, west_berlin_districts)\n",
    "\n",
    "    logger.info(f\"Enriched stops created, not saved\")\n",
    "else:\n",
    "    logger.warning(\"Could not load district data, skipping administrative enrichment\")\n",
    "    enriched_stops_df = final_stops\n",
    "\n",
    "# Display a sample of the enriched stops\n",
    "enriched_stops_df.head()"
   ]
  },
  {
   "cell_type": "markdown",
   "metadata": {},
   "source": [
    "## 5. Postal Code Data\n",
    "\n",
    "Add postal code information to stops based on their geographic location."
   ]
  },
  {
   "cell_type": "code",
   "execution_count": 16,
   "metadata": {},
   "outputs": [
    {
     "name": "stderr",
     "output_type": "stream",
     "text": [
      "2025-04-06 14:55:23,906 - INFO - Loading postal code data from local file ..\\data\\data-external\\berlin_postal_codes.geojson\n",
      "2025-04-06 14:55:24,334 - INFO - Loaded postal code data: 193 areas\n",
      "2025-04-06 14:55:24,343 - INFO - Created GeoDataFrame with 745 valid geometries from 745 total stops\n",
      "2025-04-06 14:55:24,354 - INFO - Added postal codes to 659 out of 745 stops\n"
     ]
    },
    {
     "data": {
      "application/vnd.microsoft.datawrangler.viewer.v0+json": {
       "columns": [
        {
         "name": "index",
         "rawType": "int64",
         "type": "integer"
        },
        {
         "name": "stop_name",
         "rawType": "object",
         "type": "string"
        },
        {
         "name": "type",
         "rawType": "object",
         "type": "string"
        },
        {
         "name": "line_name",
         "rawType": "object",
         "type": "string"
        },
        {
         "name": "stop_id",
         "rawType": "object",
         "type": "string"
        },
        {
         "name": "location",
         "rawType": "object",
         "type": "string"
        },
        {
         "name": "identifier",
         "rawType": "object",
         "type": "string"
        },
        {
         "name": "neighbourhood",
         "rawType": "object",
         "type": "string"
        },
        {
         "name": "district",
         "rawType": "object",
         "type": "string"
        },
        {
         "name": "east_west",
         "rawType": "object",
         "type": "string"
        },
        {
         "name": "postal_code",
         "rawType": "object",
         "type": "string"
        }
       ],
       "conversionMethod": "pd.DataFrame",
       "ref": "7cf8e157-62ca-46af-b72c-5dec698a3e42",
       "rows": [
        [
         "0",
         "Pankow (Vinetastr.)",
         "u-bahn",
         "A",
         "19650_east",
         "52.55916667,13.41333333",
         "Q570906",
         "Pankow",
         "Pankow",
         "east",
         "13189"
        ],
        [
         "1",
         "Schönhauser Allee",
         "u-bahn",
         "A",
         "19651_east",
         "52.54932889,13.41370611",
         "Q47014936",
         "Prenzlauer Berg",
         "Pankow",
         "east",
         "10439"
        ],
        [
         "2",
         "Dimitroffstr.",
         "u-bahn",
         "A",
         "19652_east",
         "52.54166667,13.41222222",
         "Q571382",
         "Prenzlauer Berg",
         "Pankow",
         "east",
         "10437"
        ],
        [
         "3",
         "Senefelderplatz",
         "u-bahn",
         "A",
         "19653_east",
         "52.53242000,13.41274300",
         "Q32661454",
         "Prenzlauer Berg",
         "Pankow",
         "east",
         "10405"
        ],
        [
         "4",
         "Luxemburgplatz",
         "u-bahn",
         "A",
         "19654_east",
         "52.52833333,13.41027778",
         "Q658790",
         "Mitte",
         "Mitte",
         "east",
         "10119"
        ]
       ],
       "shape": {
        "columns": 10,
        "rows": 5
       }
      },
      "text/html": [
       "<div>\n",
       "<style scoped>\n",
       "    .dataframe tbody tr th:only-of-type {\n",
       "        vertical-align: middle;\n",
       "    }\n",
       "\n",
       "    .dataframe tbody tr th {\n",
       "        vertical-align: top;\n",
       "    }\n",
       "\n",
       "    .dataframe thead th {\n",
       "        text-align: right;\n",
       "    }\n",
       "</style>\n",
       "<table border=\"1\" class=\"dataframe\">\n",
       "  <thead>\n",
       "    <tr style=\"text-align: right;\">\n",
       "      <th></th>\n",
       "      <th>stop_name</th>\n",
       "      <th>type</th>\n",
       "      <th>line_name</th>\n",
       "      <th>stop_id</th>\n",
       "      <th>location</th>\n",
       "      <th>identifier</th>\n",
       "      <th>neighbourhood</th>\n",
       "      <th>district</th>\n",
       "      <th>east_west</th>\n",
       "      <th>postal_code</th>\n",
       "    </tr>\n",
       "  </thead>\n",
       "  <tbody>\n",
       "    <tr>\n",
       "      <th>0</th>\n",
       "      <td>Pankow (Vinetastr.)</td>\n",
       "      <td>u-bahn</td>\n",
       "      <td>A</td>\n",
       "      <td>19650_east</td>\n",
       "      <td>52.55916667,13.41333333</td>\n",
       "      <td>Q570906</td>\n",
       "      <td>Pankow</td>\n",
       "      <td>Pankow</td>\n",
       "      <td>east</td>\n",
       "      <td>13189</td>\n",
       "    </tr>\n",
       "    <tr>\n",
       "      <th>1</th>\n",
       "      <td>Schönhauser Allee</td>\n",
       "      <td>u-bahn</td>\n",
       "      <td>A</td>\n",
       "      <td>19651_east</td>\n",
       "      <td>52.54932889,13.41370611</td>\n",
       "      <td>Q47014936</td>\n",
       "      <td>Prenzlauer Berg</td>\n",
       "      <td>Pankow</td>\n",
       "      <td>east</td>\n",
       "      <td>10439</td>\n",
       "    </tr>\n",
       "    <tr>\n",
       "      <th>2</th>\n",
       "      <td>Dimitroffstr.</td>\n",
       "      <td>u-bahn</td>\n",
       "      <td>A</td>\n",
       "      <td>19652_east</td>\n",
       "      <td>52.54166667,13.41222222</td>\n",
       "      <td>Q571382</td>\n",
       "      <td>Prenzlauer Berg</td>\n",
       "      <td>Pankow</td>\n",
       "      <td>east</td>\n",
       "      <td>10437</td>\n",
       "    </tr>\n",
       "    <tr>\n",
       "      <th>3</th>\n",
       "      <td>Senefelderplatz</td>\n",
       "      <td>u-bahn</td>\n",
       "      <td>A</td>\n",
       "      <td>19653_east</td>\n",
       "      <td>52.53242000,13.41274300</td>\n",
       "      <td>Q32661454</td>\n",
       "      <td>Prenzlauer Berg</td>\n",
       "      <td>Pankow</td>\n",
       "      <td>east</td>\n",
       "      <td>10405</td>\n",
       "    </tr>\n",
       "    <tr>\n",
       "      <th>4</th>\n",
       "      <td>Luxemburgplatz</td>\n",
       "      <td>u-bahn</td>\n",
       "      <td>A</td>\n",
       "      <td>19654_east</td>\n",
       "      <td>52.52833333,13.41027778</td>\n",
       "      <td>Q658790</td>\n",
       "      <td>Mitte</td>\n",
       "      <td>Mitte</td>\n",
       "      <td>east</td>\n",
       "      <td>10119</td>\n",
       "    </tr>\n",
       "  </tbody>\n",
       "</table>\n",
       "</div>"
      ],
      "text/plain": [
       "             stop_name    type line_name     stop_id                 location  \\\n",
       "0  Pankow (Vinetastr.)  u-bahn         A  19650_east  52.55916667,13.41333333   \n",
       "1    Schönhauser Allee  u-bahn         A  19651_east  52.54932889,13.41370611   \n",
       "2        Dimitroffstr.  u-bahn         A  19652_east  52.54166667,13.41222222   \n",
       "3      Senefelderplatz  u-bahn         A  19653_east  52.53242000,13.41274300   \n",
       "4       Luxemburgplatz  u-bahn         A  19654_east  52.52833333,13.41027778   \n",
       "\n",
       "  identifier    neighbourhood district east_west postal_code  \n",
       "0    Q570906           Pankow   Pankow      east       13189  \n",
       "1  Q47014936  Prenzlauer Berg   Pankow      east       10439  \n",
       "2    Q571382  Prenzlauer Berg   Pankow      east       10437  \n",
       "3  Q32661454  Prenzlauer Berg   Pankow      east       10405  \n",
       "4    Q658790            Mitte    Mitte      east       10119  "
      ]
     },
     "execution_count": 16,
     "metadata": {},
     "output_type": "execute_result"
    }
   ],
   "source": [
    "# Add postal code data\n",
    "enriched_stops_df = enricher.add_postal_code_data(\n",
    "    enriched_stops_df, \n",
    "    geo_data_dir=paths['geo_data_dir']\n",
    ")\n",
    "# Display a sample of the enriched stops\n",
    "enriched_stops_df.head()"
   ]
  },
  {
   "cell_type": "markdown",
   "metadata": {},
   "source": [
    "## 6. Line-Stop Relationships\n",
    "\n",
    "Process relationships between lines and stops, including creating a line-stops DataFrame, adding line type information, and adding stop foreign keys."
   ]
  },
  {
   "cell_type": "code",
   "execution_count": 17,
   "metadata": {},
   "outputs": [],
   "source": [
    "raw_df = pd.read_csv(f\"../data/raw/{YEAR}_{SIDE}.csv\")"
   ]
  },
  {
   "cell_type": "code",
   "execution_count": 18,
   "metadata": {},
   "outputs": [
    {
     "name": "stderr",
     "output_type": "stream",
     "text": [
      "2025-04-06 14:55:24,510 - INFO - Added stop foreign keys to 747 line-stop relationships\n"
     ]
    },
    {
     "data": {
      "application/vnd.microsoft.datawrangler.viewer.v0+json": {
       "columns": [
        {
         "name": "index",
         "rawType": "int64",
         "type": "integer"
        },
        {
         "name": "stop_order",
         "rawType": "int64",
         "type": "integer"
        },
        {
         "name": "stop_id",
         "rawType": "object",
         "type": "string"
        },
        {
         "name": "line_id",
         "rawType": "object",
         "type": "string"
        }
       ],
       "conversionMethod": "pd.DataFrame",
       "ref": "d66a09b5-4749-4d5c-b2b3-d148f4224aa5",
       "rows": [
        [
         "0",
         "0",
         "19650_east",
         "19651_east"
        ],
        [
         "1",
         "1",
         "19651_east",
         "19651_east"
        ],
        [
         "2",
         "2",
         "19652_east",
         "19651_east"
        ],
        [
         "3",
         "3",
         "19653_east",
         "19651_east"
        ],
        [
         "4",
         "4",
         "19654_east",
         "19651_east"
        ]
       ],
       "shape": {
        "columns": 3,
        "rows": 5
       }
      },
      "text/html": [
       "<div>\n",
       "<style scoped>\n",
       "    .dataframe tbody tr th:only-of-type {\n",
       "        vertical-align: middle;\n",
       "    }\n",
       "\n",
       "    .dataframe tbody tr th {\n",
       "        vertical-align: top;\n",
       "    }\n",
       "\n",
       "    .dataframe thead th {\n",
       "        text-align: right;\n",
       "    }\n",
       "</style>\n",
       "<table border=\"1\" class=\"dataframe\">\n",
       "  <thead>\n",
       "    <tr style=\"text-align: right;\">\n",
       "      <th></th>\n",
       "      <th>stop_order</th>\n",
       "      <th>stop_id</th>\n",
       "      <th>line_id</th>\n",
       "    </tr>\n",
       "  </thead>\n",
       "  <tbody>\n",
       "    <tr>\n",
       "      <th>0</th>\n",
       "      <td>0</td>\n",
       "      <td>19650_east</td>\n",
       "      <td>19651_east</td>\n",
       "    </tr>\n",
       "    <tr>\n",
       "      <th>1</th>\n",
       "      <td>1</td>\n",
       "      <td>19651_east</td>\n",
       "      <td>19651_east</td>\n",
       "    </tr>\n",
       "    <tr>\n",
       "      <th>2</th>\n",
       "      <td>2</td>\n",
       "      <td>19652_east</td>\n",
       "      <td>19651_east</td>\n",
       "    </tr>\n",
       "    <tr>\n",
       "      <th>3</th>\n",
       "      <td>3</td>\n",
       "      <td>19653_east</td>\n",
       "      <td>19651_east</td>\n",
       "    </tr>\n",
       "    <tr>\n",
       "      <th>4</th>\n",
       "      <td>4</td>\n",
       "      <td>19654_east</td>\n",
       "      <td>19651_east</td>\n",
       "    </tr>\n",
       "  </tbody>\n",
       "</table>\n",
       "</div>"
      ],
      "text/plain": [
       "   stop_order     stop_id     line_id\n",
       "0           0  19650_east  19651_east\n",
       "1           1  19651_east  19651_east\n",
       "2           2  19652_east  19651_east\n",
       "3           3  19653_east  19651_east\n",
       "4           4  19654_east  19651_east"
      ]
     },
     "execution_count": 18,
     "metadata": {},
     "output_type": "execute_result"
    }
   ],
   "source": [
    "from src import table_creation\n",
    "\n",
    "# Create line-stops DataFrame\n",
    "line_stops = table_creation.create_line_stops_df(raw_df)\n",
    "\n",
    "# # Add stop foreign keys\n",
    "line_stops = table_creation.add_stop_foreign_keys(line_stops, enriched_stops_df, YEAR, SIDE)\n",
    "\n",
    "# Display a sample of the line-stops relationships\n",
    "line_stops.head()"
   ]
  },
  {
   "cell_type": "markdown",
   "metadata": {},
   "source": [
    "## 7. Data Finalization\n",
    "\n",
    "Finalize and save the processed data to the output directory."
   ]
  },
  {
   "cell_type": "code",
   "execution_count": 19,
   "metadata": {},
   "outputs": [
    {
     "name": "stderr",
     "output_type": "stream",
     "text": [
      "2025-04-06 14:55:24,540 - INFO - Finalized data: 74 lines, 745 stops, 747 line-stop relationships\n",
      "2025-04-06 14:55:24,557 - INFO - Saved processed data to ..\\data\\processed\\1965_east\n"
     ]
    }
   ],
   "source": [
    "# Finalize data\n",
    "final_line_df, final_stops_df, final_line_stops_df = table_creation.finalize_data(\n",
    "    line_df, enriched_stops_df, line_stops\n",
    ")\n",
    "\n",
    "# Save final data\n",
    "table_creation.save_data(paths, final_line_df, final_stops_df, final_line_stops_df, YEAR, SIDE)"
   ]
  },
  {
   "cell_type": "markdown",
   "metadata": {},
   "source": [
    "## Summary\n",
    "\n",
    "Print a summary of the processed data and next steps."
   ]
  },
  {
   "cell_type": "code",
   "execution_count": 20,
   "metadata": {},
   "outputs": [
    {
     "name": "stdout",
     "output_type": "stream",
     "text": [
      "\n",
      "================================================================================\n",
      "ENRICHMENT SUMMARY: 1965 EAST\n",
      "================================================================================\n",
      "\n",
      "Processed data summary:\n",
      "  - Lines: 74\n",
      "  - Stops: 745\n",
      "  - Line-stop connections: 747\n",
      "\n",
      "Transport type distribution:\n",
      "  - autobus: 31 lines\n",
      "  - tram: 28 lines\n",
      "  - s-bahn: 10 lines\n",
      "  - omnibus: 3 lines\n",
      "  - u-bahn: 2 lines\n",
      "\n",
      "Geographic distribution:\n",
      "  - East: 745 stops\n",
      "\n",
      "Data completeness:\n",
      "  - Stops with location: 745 (100.0%)\n",
      "\n",
      "Data saved to: ..\\data\\processed\\1965_east\n",
      "\n",
      "Next steps:\n",
      "  1. Analyze the processed data to understand network structure\n",
      "  2. Run network metrics to compare East and West Berlin\n",
      "  3. Create visualizations of the transport network\n",
      "================================================================================\n",
      "\n"
     ]
    }
   ],
   "source": [
    "# Print summary\n",
    "table_creation.print_summary(YEAR, SIDE, final_line_df, final_stops_df, final_line_stops_df, paths)"
   ]
  }
 ],
 "metadata": {
  "kernelspec": {
   "display_name": ".venv",
   "language": "python",
   "name": "python3"
  },
  "language_info": {
   "codemirror_mode": {
    "name": "ipython",
    "version": 3
   },
   "file_extension": ".py",
   "mimetype": "text/x-python",
   "name": "python",
   "nbconvert_exporter": "python",
   "pygments_lexer": "ipython3",
   "version": "3.12.6"
  }
 },
 "nbformat": 4,
 "nbformat_minor": 2
}
