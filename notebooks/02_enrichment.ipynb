{
 "cells": [
  {
   "cell_type": "markdown",
   "metadata": {},
   "source": [
    "# Berlin Transport Network - Data Enrichment\n",
    "\n",
    "This notebook processes and enriches Berlin public transportation data for a specific year and side (East/West). It performs the following steps:\n",
    "\n",
    "1. **Configuration**: Set up year and side to process\n",
    "2. **Data Loading**: Load base data and intermediate files\n",
    "3. **Line Enrichment**: Add profile and capacity information to lines\n",
    "4. **Administrative Data**: Add district/neighborhood information to stops\n",
    "5. **Postal Code Data**: Add postal code information to stops\n",
    "6. **Line-Stop Relationships**: Process relationships between lines and stops\n",
    "7. **Data Finalization**: Finalize and save processed data\n",
    "8. **Reference Data**: Update the reference stations dataset\n",
    "\n",
    "Most of the implementation logic is in the `src.enrichment` module."
   ]
  },
  {
   "cell_type": "code",
   "execution_count": 11,
   "metadata": {},
   "outputs": [],
   "source": [
    "import sys\n",
    "import pandas as pd\n",
    "import geopandas as gpd\n",
    "import logging\n",
    "from pathlib import Path\n",
    "\n",
    "# Set up logging\n",
    "logging.basicConfig(\n",
    "    level=logging.INFO,\n",
    "    format='%(asctime)s - %(levelname)s - %(message)s'\n",
    ")\n",
    "logger = logging.getLogger(__name__)\n",
    "\n",
    "# Import modules\n",
    "sys.path.append('..')\n",
    "from src import enricher"
   ]
  },
  {
   "cell_type": "markdown",
   "metadata": {},
   "source": [
    "## 1. Configuration\n",
    "\n",
    "Set up the year and side (east/west) to process, and define paths to data files."
   ]
  },
  {
   "cell_type": "code",
   "execution_count": 12,
   "metadata": {},
   "outputs": [],
   "source": [
    "# Configuration\n",
    "YEAR = 1965\n",
    "SIDE = \"west\"\n",
    "\n",
    "# Set up paths\n",
    "BASE_DIR = Path('../data')\n",
    "paths = {\n",
    "    'base_dir': BASE_DIR,\n",
    "    'raw_dir': BASE_DIR / 'raw',\n",
    "    'interim_dir': BASE_DIR / 'interim',\n",
    "    'processed_dir': BASE_DIR / 'processed',\n",
    "    'geo_data_dir': BASE_DIR / 'data-external',\n",
    "    'existing_stations': BASE_DIR / 'processed' / 'existing_stations.csv'\n",
    "}"
   ]
  },
  {
   "cell_type": "markdown",
   "metadata": {},
   "source": [
    "## 2. Data Loading\n",
    "\n",
    "Load the raw and intermediate data files required for processing."
   ]
  },
  {
   "cell_type": "code",
   "execution_count": 13,
   "metadata": {},
   "outputs": [
    {
     "name": "stderr",
     "output_type": "stream",
     "text": [
      "2025-03-01 20:43:08,878 - INFO - Loaded base data: 102 lines\n"
     ]
    },
    {
     "name": "stderr",
     "output_type": "stream",
     "text": [
      "2025-03-01 20:43:08,891 - INFO - Loaded verified stops: 1066 stops\n",
      "2025-03-01 20:43:08,896 - INFO - Loaded existing stations: 1107 stations\n"
     ]
    }
   ],
   "source": [
    "# Load data\n",
    "try:\n",
    "    line_df_initial, final_stops, existing_stations_df = enricher.load_data(paths, YEAR, SIDE)\n",
    "except Exception as e:\n",
    "    logger.error(f\"Error loading data: {e}\")\n",
    "    raise"
   ]
  },
  {
   "cell_type": "markdown",
   "metadata": {},
   "source": [
    "## 3. Line Enrichment\n",
    "\n",
    "Enrich line data with profile and capacity information based on transport type."
   ]
  },
  {
   "cell_type": "code",
   "execution_count": 14,
   "metadata": {},
   "outputs": [
    {
     "name": "stderr",
     "output_type": "stream",
     "text": [
      "2025-03-01 20:43:08,917 - INFO - Enriched lines with profile and capacity information\n"
     ]
    },
    {
     "data": {
      "application/vnd.microsoft.datawrangler.viewer.v0+json": {
       "columns": [
        {
         "name": "index",
         "rawType": "int64",
         "type": "integer"
        },
        {
         "name": "line_id",
         "rawType": "object",
         "type": "string"
        },
        {
         "name": "year",
         "rawType": "int64",
         "type": "integer"
        },
        {
         "name": "line_name",
         "rawType": "object",
         "type": "string"
        },
        {
         "name": "type",
         "rawType": "object",
         "type": "string"
        },
        {
         "name": "start_stop",
         "rawType": "object",
         "type": "string"
        },
        {
         "name": "length (time)",
         "rawType": "float64",
         "type": "float"
        },
        {
         "name": "length (km)",
         "rawType": "float64",
         "type": "float"
        },
        {
         "name": "east_west",
         "rawType": "object",
         "type": "string"
        },
        {
         "name": "frequency (7:30)",
         "rawType": "float64",
         "type": "float"
        },
        {
         "name": "profile",
         "rawType": "object",
         "type": "unknown"
        },
        {
         "name": "capacity",
         "rawType": "int64",
         "type": "integer"
        }
       ],
       "conversionMethod": "pd.DataFrame",
       "ref": "33ee338b-d010-421e-81e9-f59e15f809ee",
       "rows": [
        [
         "0",
         "19651_west",
         "1965",
         "15",
         "tram",
         "Marienfelde, Daimlerstrasse<> Schulenburgpark",
         "36.0",
         null,
         "west",
         "10.0",
         null,
         "195"
        ],
        [
         "1",
         "19652_west",
         "1965",
         "47",
         "tram",
         "Gradestrasse Ecke Tempelhofer Weg<> Groß-Ziethener-Chaussee Ecke Waltersdorferchaussee",
         "21.0",
         null,
         "west",
         "10.0",
         null,
         "195"
        ],
        [
         "2",
         "19653_west",
         "1965",
         "47P",
         "tram",
         "Groß-Ziethener-Chaussee Ecke Waltersdorferchaussee<> Rudow, Stadtgrenze",
         "6.0",
         null,
         "west",
         "20.0",
         null,
         "195"
        ],
        [
         "3",
         "19654_west",
         "1965",
         "53",
         "tram",
         "Richard-Wagner-Platz<> Hakenfelde, Niederneuendorferallee",
         "40.0",
         null,
         "west",
         "20.0",
         null,
         "195"
        ],
        [
         "4",
         "19655_west",
         "1965",
         "54",
         "tram",
         "Richard-Wagner-Platz<> Spandau, Johannesstift",
         "41.0",
         null,
         "west",
         "20.0",
         null,
         "195"
        ]
       ],
       "shape": {
        "columns": 11,
        "rows": 5
       }
      },
      "text/html": [
       "<div>\n",
       "<style scoped>\n",
       "    .dataframe tbody tr th:only-of-type {\n",
       "        vertical-align: middle;\n",
       "    }\n",
       "\n",
       "    .dataframe tbody tr th {\n",
       "        vertical-align: top;\n",
       "    }\n",
       "\n",
       "    .dataframe thead th {\n",
       "        text-align: right;\n",
       "    }\n",
       "</style>\n",
       "<table border=\"1\" class=\"dataframe\">\n",
       "  <thead>\n",
       "    <tr style=\"text-align: right;\">\n",
       "      <th></th>\n",
       "      <th>line_id</th>\n",
       "      <th>year</th>\n",
       "      <th>line_name</th>\n",
       "      <th>type</th>\n",
       "      <th>start_stop</th>\n",
       "      <th>length (time)</th>\n",
       "      <th>length (km)</th>\n",
       "      <th>east_west</th>\n",
       "      <th>frequency (7:30)</th>\n",
       "      <th>profile</th>\n",
       "      <th>capacity</th>\n",
       "    </tr>\n",
       "  </thead>\n",
       "  <tbody>\n",
       "    <tr>\n",
       "      <th>0</th>\n",
       "      <td>19651_west</td>\n",
       "      <td>1965</td>\n",
       "      <td>15</td>\n",
       "      <td>tram</td>\n",
       "      <td>Marienfelde, Daimlerstrasse&lt;&gt; Schulenburgpark</td>\n",
       "      <td>36.0</td>\n",
       "      <td>NaN</td>\n",
       "      <td>west</td>\n",
       "      <td>10.0</td>\n",
       "      <td>None</td>\n",
       "      <td>195</td>\n",
       "    </tr>\n",
       "    <tr>\n",
       "      <th>1</th>\n",
       "      <td>19652_west</td>\n",
       "      <td>1965</td>\n",
       "      <td>47</td>\n",
       "      <td>tram</td>\n",
       "      <td>Gradestrasse Ecke Tempelhofer Weg&lt;&gt; Groß-Zieth...</td>\n",
       "      <td>21.0</td>\n",
       "      <td>NaN</td>\n",
       "      <td>west</td>\n",
       "      <td>10.0</td>\n",
       "      <td>None</td>\n",
       "      <td>195</td>\n",
       "    </tr>\n",
       "    <tr>\n",
       "      <th>2</th>\n",
       "      <td>19653_west</td>\n",
       "      <td>1965</td>\n",
       "      <td>47P</td>\n",
       "      <td>tram</td>\n",
       "      <td>Groß-Ziethener-Chaussee Ecke Waltersdorferchau...</td>\n",
       "      <td>6.0</td>\n",
       "      <td>NaN</td>\n",
       "      <td>west</td>\n",
       "      <td>20.0</td>\n",
       "      <td>None</td>\n",
       "      <td>195</td>\n",
       "    </tr>\n",
       "    <tr>\n",
       "      <th>3</th>\n",
       "      <td>19654_west</td>\n",
       "      <td>1965</td>\n",
       "      <td>53</td>\n",
       "      <td>tram</td>\n",
       "      <td>Richard-Wagner-Platz&lt;&gt; Hakenfelde, Niederneuen...</td>\n",
       "      <td>40.0</td>\n",
       "      <td>NaN</td>\n",
       "      <td>west</td>\n",
       "      <td>20.0</td>\n",
       "      <td>None</td>\n",
       "      <td>195</td>\n",
       "    </tr>\n",
       "    <tr>\n",
       "      <th>4</th>\n",
       "      <td>19655_west</td>\n",
       "      <td>1965</td>\n",
       "      <td>54</td>\n",
       "      <td>tram</td>\n",
       "      <td>Richard-Wagner-Platz&lt;&gt; Spandau, Johannesstift</td>\n",
       "      <td>41.0</td>\n",
       "      <td>NaN</td>\n",
       "      <td>west</td>\n",
       "      <td>20.0</td>\n",
       "      <td>None</td>\n",
       "      <td>195</td>\n",
       "    </tr>\n",
       "  </tbody>\n",
       "</table>\n",
       "</div>"
      ],
      "text/plain": [
       "      line_id  year line_name  type  \\\n",
       "0  19651_west  1965        15  tram   \n",
       "1  19652_west  1965        47  tram   \n",
       "2  19653_west  1965       47P  tram   \n",
       "3  19654_west  1965        53  tram   \n",
       "4  19655_west  1965        54  tram   \n",
       "\n",
       "                                          start_stop  length (time)  \\\n",
       "0      Marienfelde, Daimlerstrasse<> Schulenburgpark           36.0   \n",
       "1  Gradestrasse Ecke Tempelhofer Weg<> Groß-Zieth...           21.0   \n",
       "2  Groß-Ziethener-Chaussee Ecke Waltersdorferchau...            6.0   \n",
       "3  Richard-Wagner-Platz<> Hakenfelde, Niederneuen...           40.0   \n",
       "4      Richard-Wagner-Platz<> Spandau, Johannesstift           41.0   \n",
       "\n",
       "   length (km) east_west  frequency (7:30) profile  capacity  \n",
       "0          NaN      west              10.0    None       195  \n",
       "1          NaN      west              10.0    None       195  \n",
       "2          NaN      west              20.0    None       195  \n",
       "3          NaN      west              20.0    None       195  \n",
       "4          NaN      west              20.0    None       195  "
      ]
     },
     "execution_count": 14,
     "metadata": {},
     "output_type": "execute_result"
    }
   ],
   "source": [
    "# Enrich lines with profile and capacity information\n",
    "line_df = enricher.enrich_lines(line_df_initial, SIDE)\n",
    "\n",
    "# Display a sample of the enriched lines\n",
    "line_df.head()"
   ]
  },
  {
   "cell_type": "markdown",
   "metadata": {},
   "source": [
    "## 4. Administrative Data\n",
    "\n",
    "Add district and neighborhood information to stops based on their geographic location."
   ]
  },
  {
   "cell_type": "code",
   "execution_count": null,
   "metadata": {},
   "outputs": [
    {
     "name": "stderr",
     "output_type": "stream",
     "text": [
      "2025-03-01 20:43:09,333 - INFO - Loaded district data: 96 districts\n",
      "2025-03-01 20:43:09,335 - INFO - Loaded 53 West Berlin districts\n",
      "2025-03-01 20:43:09,355 - INFO - Created GeoDataFrame with 1066 valid geometries from 1066 total stops\n",
      "2025-03-01 20:43:09,373 - INFO - Added administrative data to 1066 stops\n",
      "2025-03-01 20:43:09,379 - INFO - Enriched stops saved to interim/stops_enriched directory\n"
     ]
    },
    {
     "data": {
      "application/vnd.microsoft.datawrangler.viewer.v0+json": {
       "columns": [
        {
         "name": "index",
         "rawType": "int64",
         "type": "integer"
        },
        {
         "name": "stop_name",
         "rawType": "object",
         "type": "string"
        },
        {
         "name": "type",
         "rawType": "object",
         "type": "string"
        },
        {
         "name": "line_name",
         "rawType": "object",
         "type": "string"
        },
        {
         "name": "stop_id",
         "rawType": "int64",
         "type": "integer"
        },
        {
         "name": "location",
         "rawType": "object",
         "type": "string"
        },
        {
         "name": "identifier",
         "rawType": "object",
         "type": "unknown"
        },
        {
         "name": "neighbourhood",
         "rawType": "object",
         "type": "string"
        },
        {
         "name": "district",
         "rawType": "object",
         "type": "string"
        },
        {
         "name": "east_west",
         "rawType": "object",
         "type": "string"
        }
       ],
       "conversionMethod": "pd.DataFrame",
       "ref": "1e8d2ba0-45dc-41f4-b0a3-a54b7d20eeea",
       "rows": [
        [
         "0",
         "Marienfelde, Daimlerstrasse",
         "tram",
         "15",
         "19650",
         "52.42393712,13.38022295",
         null,
         "Marienfelde",
         "Tempelhof-Schöneberg",
         "west"
        ],
        [
         "1",
         "Großbeerenstrasse Ecke Daimlerstrasse",
         "tram",
         "15",
         "19651",
         "52.42636276,13.37438168",
         null,
         "Marienfelde",
         "Tempelhof-Schöneberg",
         "west"
        ],
        [
         "2",
         "Körtingstrasse Ecke Großbeerenstrasse",
         "tram",
         "15",
         "19652",
         "52.43481353,13.37831564",
         null,
         "Mariendorf",
         "Tempelhof-Schöneberg",
         "west"
        ],
        [
         "3",
         "Mariendorferdamm Ecke Alt-Mariendorf",
         "tram",
         "15",
         "19653",
         "52.44016815,13.38730997",
         null,
         "Mariendorf",
         "Tempelhof-Schöneberg",
         "west"
        ],
        [
         "4",
         "Imbrosweg Ecke Rixdorferstrasse",
         "tram",
         "15",
         "19654",
         "52.44352627,13.39862544",
         null,
         "Mariendorf",
         "Tempelhof-Schöneberg",
         "west"
        ]
       ],
       "shape": {
        "columns": 9,
        "rows": 5
       }
      },
      "text/html": [
       "<div>\n",
       "<style scoped>\n",
       "    .dataframe tbody tr th:only-of-type {\n",
       "        vertical-align: middle;\n",
       "    }\n",
       "\n",
       "    .dataframe tbody tr th {\n",
       "        vertical-align: top;\n",
       "    }\n",
       "\n",
       "    .dataframe thead th {\n",
       "        text-align: right;\n",
       "    }\n",
       "</style>\n",
       "<table border=\"1\" class=\"dataframe\">\n",
       "  <thead>\n",
       "    <tr style=\"text-align: right;\">\n",
       "      <th></th>\n",
       "      <th>stop_name</th>\n",
       "      <th>type</th>\n",
       "      <th>line_name</th>\n",
       "      <th>stop_id</th>\n",
       "      <th>location</th>\n",
       "      <th>identifier</th>\n",
       "      <th>neighbourhood</th>\n",
       "      <th>district</th>\n",
       "      <th>east_west</th>\n",
       "    </tr>\n",
       "  </thead>\n",
       "  <tbody>\n",
       "    <tr>\n",
       "      <th>0</th>\n",
       "      <td>Marienfelde, Daimlerstrasse</td>\n",
       "      <td>tram</td>\n",
       "      <td>15</td>\n",
       "      <td>19650</td>\n",
       "      <td>52.42393712,13.38022295</td>\n",
       "      <td>NaN</td>\n",
       "      <td>Marienfelde</td>\n",
       "      <td>Tempelhof-Schöneberg</td>\n",
       "      <td>west</td>\n",
       "    </tr>\n",
       "    <tr>\n",
       "      <th>1</th>\n",
       "      <td>Großbeerenstrasse Ecke Daimlerstrasse</td>\n",
       "      <td>tram</td>\n",
       "      <td>15</td>\n",
       "      <td>19651</td>\n",
       "      <td>52.42636276,13.37438168</td>\n",
       "      <td>NaN</td>\n",
       "      <td>Marienfelde</td>\n",
       "      <td>Tempelhof-Schöneberg</td>\n",
       "      <td>west</td>\n",
       "    </tr>\n",
       "    <tr>\n",
       "      <th>2</th>\n",
       "      <td>Körtingstrasse Ecke Großbeerenstrasse</td>\n",
       "      <td>tram</td>\n",
       "      <td>15</td>\n",
       "      <td>19652</td>\n",
       "      <td>52.43481353,13.37831564</td>\n",
       "      <td>NaN</td>\n",
       "      <td>Mariendorf</td>\n",
       "      <td>Tempelhof-Schöneberg</td>\n",
       "      <td>west</td>\n",
       "    </tr>\n",
       "    <tr>\n",
       "      <th>3</th>\n",
       "      <td>Mariendorferdamm Ecke Alt-Mariendorf</td>\n",
       "      <td>tram</td>\n",
       "      <td>15</td>\n",
       "      <td>19653</td>\n",
       "      <td>52.44016815,13.38730997</td>\n",
       "      <td>NaN</td>\n",
       "      <td>Mariendorf</td>\n",
       "      <td>Tempelhof-Schöneberg</td>\n",
       "      <td>west</td>\n",
       "    </tr>\n",
       "    <tr>\n",
       "      <th>4</th>\n",
       "      <td>Imbrosweg Ecke Rixdorferstrasse</td>\n",
       "      <td>tram</td>\n",
       "      <td>15</td>\n",
       "      <td>19654</td>\n",
       "      <td>52.44352627,13.39862544</td>\n",
       "      <td>NaN</td>\n",
       "      <td>Mariendorf</td>\n",
       "      <td>Tempelhof-Schöneberg</td>\n",
       "      <td>west</td>\n",
       "    </tr>\n",
       "  </tbody>\n",
       "</table>\n",
       "</div>"
      ],
      "text/plain": [
       "                               stop_name  type line_name  stop_id  \\\n",
       "0            Marienfelde, Daimlerstrasse  tram        15    19650   \n",
       "1  Großbeerenstrasse Ecke Daimlerstrasse  tram        15    19651   \n",
       "2  Körtingstrasse Ecke Großbeerenstrasse  tram        15    19652   \n",
       "3   Mariendorferdamm Ecke Alt-Mariendorf  tram        15    19653   \n",
       "4        Imbrosweg Ecke Rixdorferstrasse  tram        15    19654   \n",
       "\n",
       "                  location identifier neighbourhood              district  \\\n",
       "0  52.42393712,13.38022295        NaN   Marienfelde  Tempelhof-Schöneberg   \n",
       "1  52.42636276,13.37438168        NaN   Marienfelde  Tempelhof-Schöneberg   \n",
       "2  52.43481353,13.37831564        NaN    Mariendorf  Tempelhof-Schöneberg   \n",
       "3  52.44016815,13.38730997        NaN    Mariendorf  Tempelhof-Schöneberg   \n",
       "4  52.44352627,13.39862544        NaN    Mariendorf  Tempelhof-Schöneberg   \n",
       "\n",
       "  east_west  \n",
       "0      west  \n",
       "1      west  \n",
       "2      west  \n",
       "3      west  \n",
       "4      west  "
      ]
     },
     "execution_count": 15,
     "metadata": {},
     "output_type": "execute_result"
    }
   ],
   "source": [
    "# Load district data\n",
    "districts_gdf, west_berlin_districts = enricher.load_district_data(paths['geo_data_dir'])\n",
    "\n",
    "# Add administrative data\n",
    "if districts_gdf is not None and west_berlin_districts is not None:\n",
    "    enriched_stops_df = enricher.add_administrative_data(SIDE, final_stops, districts_gdf, west_berlin_districts)\n",
    "\n",
    "    logger.info(f\"Enriched stops created, not saved\")\n",
    "else:\n",
    "    logger.warning(\"Could not load district data, skipping administrative enrichment\")\n",
    "    enriched_stops_df = final_stops\n",
    "\n",
    "# Display a sample of the enriched stops\n",
    "enriched_stops_df.head()"
   ]
  },
  {
   "cell_type": "markdown",
   "metadata": {},
   "source": [
    "## 5. Postal Code Data\n",
    "\n",
    "Add postal code information to stops based on their geographic location."
   ]
  },
  {
   "cell_type": "code",
   "execution_count": 16,
   "metadata": {},
   "outputs": [
    {
     "name": "stderr",
     "output_type": "stream",
     "text": [
      "2025-03-01 20:43:09,390 - INFO - Loading postal code data from local file ..\\data\\data-external\\berlin_postal_codes.geojson\n",
      "2025-03-01 20:43:09,586 - INFO - Loaded postal code data: 193 areas\n",
      "2025-03-01 20:43:09,594 - INFO - Created GeoDataFrame with 1066 valid geometries from 1066 total stops\n",
      "2025-03-01 20:43:09,601 - INFO - Added postal codes to 1066 out of 1066 stops\n"
     ]
    },
    {
     "data": {
      "application/vnd.microsoft.datawrangler.viewer.v0+json": {
       "columns": [
        {
         "name": "index",
         "rawType": "int64",
         "type": "integer"
        },
        {
         "name": "stop_name",
         "rawType": "object",
         "type": "string"
        },
        {
         "name": "type",
         "rawType": "object",
         "type": "string"
        },
        {
         "name": "line_name",
         "rawType": "object",
         "type": "string"
        },
        {
         "name": "stop_id",
         "rawType": "int64",
         "type": "integer"
        },
        {
         "name": "location",
         "rawType": "object",
         "type": "string"
        },
        {
         "name": "identifier",
         "rawType": "object",
         "type": "unknown"
        },
        {
         "name": "neighbourhood",
         "rawType": "object",
         "type": "string"
        },
        {
         "name": "district",
         "rawType": "object",
         "type": "string"
        },
        {
         "name": "east_west",
         "rawType": "object",
         "type": "string"
        },
        {
         "name": "postal_code",
         "rawType": "object",
         "type": "string"
        }
       ],
       "conversionMethod": "pd.DataFrame",
       "ref": "5a9d0cdc-a668-4a23-80f8-e2c17140db84",
       "rows": [
        [
         "0",
         "Marienfelde, Daimlerstrasse",
         "tram",
         "15",
         "19650",
         "52.42393712,13.38022295",
         null,
         "Marienfelde",
         "Tempelhof-Schöneberg",
         "west",
         "12277"
        ],
        [
         "1",
         "Großbeerenstrasse Ecke Daimlerstrasse",
         "tram",
         "15",
         "19651",
         "52.42636276,13.37438168",
         null,
         "Marienfelde",
         "Tempelhof-Schöneberg",
         "west",
         "12277"
        ],
        [
         "2",
         "Körtingstrasse Ecke Großbeerenstrasse",
         "tram",
         "15",
         "19652",
         "52.43481353,13.37831564",
         null,
         "Mariendorf",
         "Tempelhof-Schöneberg",
         "west",
         "12107"
        ],
        [
         "3",
         "Mariendorferdamm Ecke Alt-Mariendorf",
         "tram",
         "15",
         "19653",
         "52.44016815,13.38730997",
         null,
         "Mariendorf",
         "Tempelhof-Schöneberg",
         "west",
         "12107"
        ],
        [
         "4",
         "Imbrosweg Ecke Rixdorferstrasse",
         "tram",
         "15",
         "19654",
         "52.44352627,13.39862544",
         null,
         "Mariendorf",
         "Tempelhof-Schöneberg",
         "west",
         "12109"
        ]
       ],
       "shape": {
        "columns": 10,
        "rows": 5
       }
      },
      "text/html": [
       "<div>\n",
       "<style scoped>\n",
       "    .dataframe tbody tr th:only-of-type {\n",
       "        vertical-align: middle;\n",
       "    }\n",
       "\n",
       "    .dataframe tbody tr th {\n",
       "        vertical-align: top;\n",
       "    }\n",
       "\n",
       "    .dataframe thead th {\n",
       "        text-align: right;\n",
       "    }\n",
       "</style>\n",
       "<table border=\"1\" class=\"dataframe\">\n",
       "  <thead>\n",
       "    <tr style=\"text-align: right;\">\n",
       "      <th></th>\n",
       "      <th>stop_name</th>\n",
       "      <th>type</th>\n",
       "      <th>line_name</th>\n",
       "      <th>stop_id</th>\n",
       "      <th>location</th>\n",
       "      <th>identifier</th>\n",
       "      <th>neighbourhood</th>\n",
       "      <th>district</th>\n",
       "      <th>east_west</th>\n",
       "      <th>postal_code</th>\n",
       "    </tr>\n",
       "  </thead>\n",
       "  <tbody>\n",
       "    <tr>\n",
       "      <th>0</th>\n",
       "      <td>Marienfelde, Daimlerstrasse</td>\n",
       "      <td>tram</td>\n",
       "      <td>15</td>\n",
       "      <td>19650</td>\n",
       "      <td>52.42393712,13.38022295</td>\n",
       "      <td>NaN</td>\n",
       "      <td>Marienfelde</td>\n",
       "      <td>Tempelhof-Schöneberg</td>\n",
       "      <td>west</td>\n",
       "      <td>12277</td>\n",
       "    </tr>\n",
       "    <tr>\n",
       "      <th>1</th>\n",
       "      <td>Großbeerenstrasse Ecke Daimlerstrasse</td>\n",
       "      <td>tram</td>\n",
       "      <td>15</td>\n",
       "      <td>19651</td>\n",
       "      <td>52.42636276,13.37438168</td>\n",
       "      <td>NaN</td>\n",
       "      <td>Marienfelde</td>\n",
       "      <td>Tempelhof-Schöneberg</td>\n",
       "      <td>west</td>\n",
       "      <td>12277</td>\n",
       "    </tr>\n",
       "    <tr>\n",
       "      <th>2</th>\n",
       "      <td>Körtingstrasse Ecke Großbeerenstrasse</td>\n",
       "      <td>tram</td>\n",
       "      <td>15</td>\n",
       "      <td>19652</td>\n",
       "      <td>52.43481353,13.37831564</td>\n",
       "      <td>NaN</td>\n",
       "      <td>Mariendorf</td>\n",
       "      <td>Tempelhof-Schöneberg</td>\n",
       "      <td>west</td>\n",
       "      <td>12107</td>\n",
       "    </tr>\n",
       "    <tr>\n",
       "      <th>3</th>\n",
       "      <td>Mariendorferdamm Ecke Alt-Mariendorf</td>\n",
       "      <td>tram</td>\n",
       "      <td>15</td>\n",
       "      <td>19653</td>\n",
       "      <td>52.44016815,13.38730997</td>\n",
       "      <td>NaN</td>\n",
       "      <td>Mariendorf</td>\n",
       "      <td>Tempelhof-Schöneberg</td>\n",
       "      <td>west</td>\n",
       "      <td>12107</td>\n",
       "    </tr>\n",
       "    <tr>\n",
       "      <th>4</th>\n",
       "      <td>Imbrosweg Ecke Rixdorferstrasse</td>\n",
       "      <td>tram</td>\n",
       "      <td>15</td>\n",
       "      <td>19654</td>\n",
       "      <td>52.44352627,13.39862544</td>\n",
       "      <td>NaN</td>\n",
       "      <td>Mariendorf</td>\n",
       "      <td>Tempelhof-Schöneberg</td>\n",
       "      <td>west</td>\n",
       "      <td>12109</td>\n",
       "    </tr>\n",
       "  </tbody>\n",
       "</table>\n",
       "</div>"
      ],
      "text/plain": [
       "                               stop_name  type line_name  stop_id  \\\n",
       "0            Marienfelde, Daimlerstrasse  tram        15    19650   \n",
       "1  Großbeerenstrasse Ecke Daimlerstrasse  tram        15    19651   \n",
       "2  Körtingstrasse Ecke Großbeerenstrasse  tram        15    19652   \n",
       "3   Mariendorferdamm Ecke Alt-Mariendorf  tram        15    19653   \n",
       "4        Imbrosweg Ecke Rixdorferstrasse  tram        15    19654   \n",
       "\n",
       "                  location identifier neighbourhood              district  \\\n",
       "0  52.42393712,13.38022295        NaN   Marienfelde  Tempelhof-Schöneberg   \n",
       "1  52.42636276,13.37438168        NaN   Marienfelde  Tempelhof-Schöneberg   \n",
       "2  52.43481353,13.37831564        NaN    Mariendorf  Tempelhof-Schöneberg   \n",
       "3  52.44016815,13.38730997        NaN    Mariendorf  Tempelhof-Schöneberg   \n",
       "4  52.44352627,13.39862544        NaN    Mariendorf  Tempelhof-Schöneberg   \n",
       "\n",
       "  east_west postal_code  \n",
       "0      west       12277  \n",
       "1      west       12277  \n",
       "2      west       12107  \n",
       "3      west       12107  \n",
       "4      west       12109  "
      ]
     },
     "execution_count": 16,
     "metadata": {},
     "output_type": "execute_result"
    }
   ],
   "source": [
    "# Add postal code data\n",
    "enriched_stops_df = enricher.add_postal_code_data(\n",
    "    enriched_stops_df, \n",
    "    geo_data_dir=paths['geo_data_dir']\n",
    ")\n",
    "# Display a sample of the enriched stops\n",
    "enriched_stops_df.head()"
   ]
  },
  {
   "cell_type": "markdown",
   "metadata": {},
   "source": [
    "## 6. Line-Stop Relationships\n",
    "\n",
    "Process relationships between lines and stops, including creating a line-stops DataFrame, adding line type information, and adding stop foreign keys."
   ]
  },
  {
   "cell_type": "code",
   "execution_count": 17,
   "metadata": {},
   "outputs": [],
   "source": [
    "raw_df = pd.read_csv(f\"../data/raw/{YEAR}_{SIDE}.csv\")"
   ]
  },
  {
   "cell_type": "code",
   "execution_count": 18,
   "metadata": {},
   "outputs": [
    {
     "name": "stderr",
     "output_type": "stream",
     "text": [
      "2025-03-01 20:43:09,710 - INFO - Added stop foreign keys to 1396 line-stop relationships\n"
     ]
    },
    {
     "data": {
      "application/vnd.microsoft.datawrangler.viewer.v0+json": {
       "columns": [
        {
         "name": "index",
         "rawType": "int64",
         "type": "integer"
        },
        {
         "name": "stop_order",
         "rawType": "int64",
         "type": "integer"
        },
        {
         "name": "stop_id",
         "rawType": "object",
         "type": "string"
        },
        {
         "name": "line_id",
         "rawType": "object",
         "type": "string"
        }
       ],
       "conversionMethod": "pd.DataFrame",
       "ref": "8272561f-5da1-4d5e-a0e4-b9179a5b58f1",
       "rows": [
        [
         "0",
         "0",
         "19650",
         "19651_west"
        ],
        [
         "1",
         "1",
         "19651",
         "19651_west"
        ],
        [
         "2",
         "2",
         "19652",
         "19651_west"
        ],
        [
         "3",
         "3",
         "19653",
         "19651_west"
        ],
        [
         "4",
         "4",
         "19654",
         "19651_west"
        ]
       ],
       "shape": {
        "columns": 3,
        "rows": 5
       }
      },
      "text/html": [
       "<div>\n",
       "<style scoped>\n",
       "    .dataframe tbody tr th:only-of-type {\n",
       "        vertical-align: middle;\n",
       "    }\n",
       "\n",
       "    .dataframe tbody tr th {\n",
       "        vertical-align: top;\n",
       "    }\n",
       "\n",
       "    .dataframe thead th {\n",
       "        text-align: right;\n",
       "    }\n",
       "</style>\n",
       "<table border=\"1\" class=\"dataframe\">\n",
       "  <thead>\n",
       "    <tr style=\"text-align: right;\">\n",
       "      <th></th>\n",
       "      <th>stop_order</th>\n",
       "      <th>stop_id</th>\n",
       "      <th>line_id</th>\n",
       "    </tr>\n",
       "  </thead>\n",
       "  <tbody>\n",
       "    <tr>\n",
       "      <th>0</th>\n",
       "      <td>0</td>\n",
       "      <td>19650</td>\n",
       "      <td>19651_west</td>\n",
       "    </tr>\n",
       "    <tr>\n",
       "      <th>1</th>\n",
       "      <td>1</td>\n",
       "      <td>19651</td>\n",
       "      <td>19651_west</td>\n",
       "    </tr>\n",
       "    <tr>\n",
       "      <th>2</th>\n",
       "      <td>2</td>\n",
       "      <td>19652</td>\n",
       "      <td>19651_west</td>\n",
       "    </tr>\n",
       "    <tr>\n",
       "      <th>3</th>\n",
       "      <td>3</td>\n",
       "      <td>19653</td>\n",
       "      <td>19651_west</td>\n",
       "    </tr>\n",
       "    <tr>\n",
       "      <th>4</th>\n",
       "      <td>4</td>\n",
       "      <td>19654</td>\n",
       "      <td>19651_west</td>\n",
       "    </tr>\n",
       "  </tbody>\n",
       "</table>\n",
       "</div>"
      ],
      "text/plain": [
       "   stop_order stop_id     line_id\n",
       "0           0   19650  19651_west\n",
       "1           1   19651  19651_west\n",
       "2           2   19652  19651_west\n",
       "3           3   19653  19651_west\n",
       "4           4   19654  19651_west"
      ]
     },
     "execution_count": 18,
     "metadata": {},
     "output_type": "execute_result"
    }
   ],
   "source": [
    "from src import table_creation\n",
    "\n",
    "# Create line-stops DataFrame\n",
    "line_stops = table_creation.create_line_stops_df(raw_df)\n",
    "\n",
    "# # Add stop foreign keys\n",
    "line_stops = table_creation.add_stop_foreign_keys(line_stops, enriched_stops_df, YEAR, SIDE)\n",
    "\n",
    "# Display a sample of the line-stops relationships\n",
    "line_stops.head()"
   ]
  },
  {
   "cell_type": "markdown",
   "metadata": {},
   "source": [
    "## 7. Data Finalization\n",
    "\n",
    "Finalize and save the processed data to the output directory."
   ]
  },
  {
   "cell_type": "code",
   "execution_count": 19,
   "metadata": {},
   "outputs": [
    {
     "name": "stderr",
     "output_type": "stream",
     "text": [
      "2025-03-01 20:43:09,727 - INFO - Finalized data: 102 lines, 1066 stops, 1396 line-stop relationships\n",
      "2025-03-01 20:43:09,739 - INFO - Saved processed data to ..\\data\\processed\\1965_west\n"
     ]
    }
   ],
   "source": [
    "# Finalize data\n",
    "final_line_df, final_stops_df, final_line_stops_df = table_creation.finalize_data(\n",
    "    line_df, enriched_stops_df, line_stops\n",
    ")\n",
    "\n",
    "# Save final data\n",
    "table_creation.save_data(paths, final_line_df, final_stops_df, final_line_stops_df, YEAR, SIDE)"
   ]
  },
  {
   "cell_type": "markdown",
   "metadata": {},
   "source": [
    "## Summary\n",
    "\n",
    "Print a summary of the processed data and next steps."
   ]
  },
  {
   "cell_type": "code",
   "execution_count": 20,
   "metadata": {},
   "outputs": [
    {
     "name": "stdout",
     "output_type": "stream",
     "text": [
      "\n",
      "================================================================================\n",
      "ENRICHMENT SUMMARY: 1965 WEST\n",
      "================================================================================\n",
      "\n",
      "Processed data summary:\n",
      "  - Lines: 102\n",
      "  - Stops: 1066\n",
      "  - Line-stop connections: 1396\n",
      "\n",
      "Transport type distribution:\n",
      "  - autobus: 73 lines\n",
      "  - s-bahn: 10 lines\n",
      "  - tram: 9 lines\n",
      "  - u-bahn: 9 lines\n",
      "  - ferry: 1 lines\n",
      "\n",
      "Geographic distribution:\n",
      "  - West: 1066 stops\n",
      "\n",
      "Data completeness:\n",
      "  - Stops with location: 1066 (100.0%)\n",
      "\n",
      "Data saved to: ..\\data\\processed\\1965_west\n",
      "\n",
      "Next steps:\n",
      "  1. Analyze the processed data to understand network structure\n",
      "  2. Run network metrics to compare East and West Berlin\n",
      "  3. Create visualizations of the transport network\n",
      "================================================================================\n",
      "\n"
     ]
    }
   ],
   "source": [
    "# Print summary\n",
    "table_creation.print_summary(YEAR, SIDE, final_line_df, final_stops_df, final_line_stops_df, paths)"
   ]
  }
 ],
 "metadata": {
  "kernelspec": {
   "display_name": ".venv",
   "language": "python",
   "name": "python3"
  },
  "language_info": {
   "codemirror_mode": {
    "name": "ipython",
    "version": 3
   },
   "file_extension": ".py",
   "mimetype": "text/x-python",
   "name": "python",
   "nbconvert_exporter": "python",
   "pygments_lexer": "ipython3",
   "version": "3.12.6"
  }
 },
 "nbformat": 4,
 "nbformat_minor": 2
}
