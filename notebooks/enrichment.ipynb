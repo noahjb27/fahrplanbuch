{
 "cells": [
  {
   "cell_type": "code",
   "execution_count": 1,
   "metadata": {},
   "outputs": [],
   "source": [
    "# Data Enrichment and Neo4j Loading\n",
    "\n",
    "import pandas as pd\n",
    "import logging\n",
    "\n",
    "# Configure logging\n",
    "logging.basicConfig(level=logging.INFO)\n",
    "logger = logging.getLogger(__name__)"
   ]
  },
  {
   "cell_type": "code",
   "execution_count": null,
   "metadata": {},
   "outputs": [],
   "source": [
    "# Example usage:\n",
    "year = 1965\n",
    "side = 'west'\n",
    "\n",
    "enricher = DataEnricher(year, side)\n",
    "enricher.load_and_combine_data()\n",
    "enricher.add_administrative_data()\n",
    "enricher.add_east_west_classification()\n",
    "enricher.enrich_transport_data()\n",
    "final_df = enricher.prepare_for_neo4j()\n",
    "\n",
    "# Save enriched data\n",
    "output_path = f'../data/processed/stops_{year}_{side}_final.csv'\n",
    "final_df.to_csv(output_path, index=False)\n",
    "logger.info(f\"Saved enriched data to {output_path}\")"
   ]
  }
 ],
 "metadata": {
  "kernelspec": {
   "display_name": ".venv",
   "language": "python",
   "name": "python3"
  },
  "language_info": {
   "codemirror_mode": {
    "name": "ipython",
    "version": 3
   },
   "file_extension": ".py",
   "mimetype": "text/x-python",
   "name": "python",
   "nbconvert_exporter": "python",
   "pygments_lexer": "ipython3",
   "version": "3.12.6"
  }
 },
 "nbformat": 4,
 "nbformat_minor": 2
}
